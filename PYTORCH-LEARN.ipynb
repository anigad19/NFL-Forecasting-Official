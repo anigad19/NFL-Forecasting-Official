{
 "cells": [
  {
   "cell_type": "code",
   "execution_count": 1,
   "id": "c0dace4f-fbe5-48fa-8fa4-fe6c664d862e",
   "metadata": {
    "tags": []
   },
   "outputs": [],
   "source": [
    "import torch"
   ]
  },
  {
   "cell_type": "code",
   "execution_count": 2,
   "id": "99a6e859-7dea-40a5-bcb4-f8903786b046",
   "metadata": {
    "tags": []
   },
   "outputs": [],
   "source": [
    "import torch.nn as nn"
   ]
  },
  {
   "cell_type": "code",
   "execution_count": 3,
   "id": "dee317ad-7dbb-47bb-a954-3d793936a6a8",
   "metadata": {
    "tags": []
   },
   "outputs": [],
   "source": [
    "import numpy as np"
   ]
  },
  {
   "cell_type": "code",
   "execution_count": 9,
   "id": "38e3da9a-6b3d-4028-903c-95b2ca87e184",
   "metadata": {
    "tags": []
   },
   "outputs": [],
   "source": [
    "input_data = torch.tensor([1.0, 2.0])"
   ]
  },
  {
   "cell_type": "code",
   "execution_count": 10,
   "id": "d777bf14-64ea-4779-b478-207305e22bf5",
   "metadata": {
    "tags": []
   },
   "outputs": [],
   "source": [
    "layer1 = nn.Linear(2, 3)"
   ]
  },
  {
   "cell_type": "code",
   "execution_count": 11,
   "id": "416b92a0-2459-486b-a7a4-ecb5daaee75d",
   "metadata": {},
   "outputs": [
    {
     "data": {
      "text/plain": [
       "tensor([-1.3630,  0.1410,  0.7285], grad_fn=<AddBackward0>)"
      ]
     },
     "execution_count": 11,
     "metadata": {},
     "output_type": "execute_result"
    }
   ],
   "source": [
    "layer1(input_data)"
   ]
  },
  {
   "cell_type": "code",
   "execution_count": 22,
   "id": "f17df4dc-d55c-456c-8a0b-8765dea79a0c",
   "metadata": {
    "tags": []
   },
   "outputs": [
    {
     "data": {
      "text/plain": [
       "Parameter containing:\n",
       "tensor([[-0.4123, -0.5623],\n",
       "        [ 0.5934, -0.2864],\n",
       "        [ 0.6924, -0.2508]], requires_grad=True)"
      ]
     },
     "execution_count": 22,
     "metadata": {},
     "output_type": "execute_result"
    }
   ],
   "source": [
    "layer1.weight"
   ]
  },
  {
   "cell_type": "code",
   "execution_count": 14,
   "id": "97af0498-9495-46d6-8322-3214bdd63758",
   "metadata": {
    "tags": []
   },
   "outputs": [
    {
     "data": {
      "text/plain": [
       "Parameter containing:\n",
       "tensor([0.1739, 0.1205, 0.5376], requires_grad=True)"
      ]
     },
     "execution_count": 14,
     "metadata": {},
     "output_type": "execute_result"
    }
   ],
   "source": [
    "layer1.bias"
   ]
  },
  {
   "cell_type": "code",
   "execution_count": 26,
   "id": "589c0ecb-63a3-4577-a8fd-e5e11b3d7fd6",
   "metadata": {
    "tags": []
   },
   "outputs": [],
   "source": [
    "network = nn.Sequential(nn.Linear(2, 3), nn.ReLU(), nn.Linear(3, 10), nn.ReLU())"
   ]
  },
  {
   "cell_type": "code",
   "execution_count": 27,
   "id": "d7c65e96-7f7a-4ff7-ad3d-f662c9000966",
   "metadata": {
    "tags": []
   },
   "outputs": [
    {
     "data": {
      "text/plain": [
       "tensor([0.4413, 0.4363, 0.0000, 0.0000, 0.0000, 0.0000, 0.0000, 0.0000, 0.1824,\n",
       "        0.1257], grad_fn=<ReluBackward0>)"
      ]
     },
     "execution_count": 27,
     "metadata": {},
     "output_type": "execute_result"
    }
   ],
   "source": [
    "network(input_data)"
   ]
  },
  {
   "cell_type": "code",
   "execution_count": 31,
   "id": "8ea9f76d-b832-4e98-bc69-6fd909cbf094",
   "metadata": {
    "tags": []
   },
   "outputs": [
    {
     "data": {
      "text/plain": [
       "Sequential(\n",
       "  (0): Linear(in_features=2, out_features=3, bias=True)\n",
       "  (1): ReLU()\n",
       ")"
      ]
     },
     "execution_count": 31,
     "metadata": {},
     "output_type": "execute_result"
    }
   ],
   "source": [
    "network[:2]"
   ]
  },
  {
   "cell_type": "code",
   "execution_count": null,
   "id": "1f19be43-519d-4dc2-8c4f-27421c1afb2d",
   "metadata": {},
   "outputs": [],
   "source": []
  }
 ],
 "metadata": {
  "kernelspec": {
   "display_name": "Python 3 (ipykernel)",
   "language": "python",
   "name": "python3"
  },
  "language_info": {
   "codemirror_mode": {
    "name": "ipython",
    "version": 3
   },
   "file_extension": ".py",
   "mimetype": "text/x-python",
   "name": "python",
   "nbconvert_exporter": "python",
   "pygments_lexer": "ipython3",
   "version": "3.8.17"
  }
 },
 "nbformat": 4,
 "nbformat_minor": 5
}
