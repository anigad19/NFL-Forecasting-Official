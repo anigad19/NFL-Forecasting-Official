{
 "cells": [
  {
   "cell_type": "code",
   "execution_count": 1,
   "id": "a5f5e50c-7abb-4b72-9e3f-a4197a8de5b6",
   "metadata": {
    "tags": []
   },
   "outputs": [],
   "source": [
    "import torch\n",
    "import torch.nn as nn\n",
    "import numpy as np"
   ]
  },
  {
   "cell_type": "code",
   "execution_count": 2,
   "id": "7a9af4cc-fc82-41b9-baec-2134d274b49f",
   "metadata": {
    "tags": []
   },
   "outputs": [],
   "source": [
    "network = nn.Sequential(nn.Linear(13, 20), nn.ReLU(), nn.Linear(20, 15), nn.ReLU(), nn.Linear(15, 7))"
   ]
  },
  {
   "cell_type": "code",
   "execution_count": 3,
   "id": "cc4b12ee-8fd9-4459-a973-ce566996501c",
   "metadata": {
    "tags": []
   },
   "outputs": [],
   "source": [
    "database = torch.load(\"database.pt\")"
   ]
  },
  {
   "cell_type": "code",
   "execution_count": 4,
   "id": "ea88c710-4577-499e-bc2d-d9bc3571f32e",
   "metadata": {
    "tags": []
   },
   "outputs": [],
   "source": [
    "state = torch.tensor(database[\"state\"], dtype = torch.float)\n",
    "action = torch.tensor(database['action'].toarray(), dtype = torch.float)\n",
    "reward = torch.tensor(database['reward'], dtype = torch.float)"
   ]
  },
  {
   "cell_type": "code",
   "execution_count": 5,
   "id": "7cc75164-5609-4ead-88e4-ad280a4b0e25",
   "metadata": {
    "tags": []
   },
   "outputs": [
    {
     "data": {
      "text/plain": [
       "tensor([0.0000e+00, 0.0000e+00, 0.0000e+00, 0.0000e+00, 1.4098e-02, 2.4307e-04,\n",
       "        0.0000e+00, 2.4307e-03, 1.2153e-03, 2.1706e-01, 4.3582e-01, 8.7335e-01,\n",
       "        0.0000e+00])"
      ]
     },
     "execution_count": 5,
     "metadata": {},
     "output_type": "execute_result"
    }
   ],
   "source": [
    "state[0]"
   ]
  },
  {
   "cell_type": "code",
   "execution_count": 6,
   "id": "d3d4f77d-a767-4330-b74f-36cbcfed0acf",
   "metadata": {
    "tags": []
   },
   "outputs": [
    {
     "data": {
      "text/plain": [
       "tensor([0., 0., 1., 0., 0., 0., 0.])"
      ]
     },
     "execution_count": 6,
     "metadata": {},
     "output_type": "execute_result"
    }
   ],
   "source": [
    "action[0]"
   ]
  },
  {
   "cell_type": "code",
   "execution_count": 7,
   "id": "ef3e944d-d529-44e3-949e-72f2af46394e",
   "metadata": {
    "tags": []
   },
   "outputs": [
    {
     "data": {
      "text/plain": [
       "tensor(5.)"
      ]
     },
     "execution_count": 7,
     "metadata": {},
     "output_type": "execute_result"
    }
   ],
   "source": [
    "reward[0]"
   ]
  },
  {
   "cell_type": "code",
   "execution_count": 8,
   "id": "1bd60ba2-9926-4034-bcea-b79008d6a393",
   "metadata": {
    "tags": []
   },
   "outputs": [
    {
     "data": {
      "text/plain": [
       "torch.Size([380691, 13])"
      ]
     },
     "execution_count": 8,
     "metadata": {},
     "output_type": "execute_result"
    }
   ],
   "source": [
    "state.shape"
   ]
  },
  {
   "cell_type": "code",
   "execution_count": 9,
   "id": "646821d3-199c-462e-9023-63506c67c0f9",
   "metadata": {
    "tags": []
   },
   "outputs": [
    {
     "data": {
      "text/plain": [
       "torch.Size([380691, 7])"
      ]
     },
     "execution_count": 9,
     "metadata": {},
     "output_type": "execute_result"
    }
   ],
   "source": [
    "action.shape"
   ]
  },
  {
   "cell_type": "code",
   "execution_count": 10,
   "id": "dca359b7-4aaa-4e2b-a14d-40344ec48edc",
   "metadata": {
    "tags": []
   },
   "outputs": [
    {
     "data": {
      "text/plain": [
       "torch.Size([380692])"
      ]
     },
     "execution_count": 10,
     "metadata": {},
     "output_type": "execute_result"
    }
   ],
   "source": [
    "reward.shape"
   ]
  },
  {
   "cell_type": "code",
   "execution_count": 11,
   "id": "ca5c31cd-4386-49db-a506-f32b5e72da3a",
   "metadata": {
    "tags": []
   },
   "outputs": [
    {
     "data": {
      "text/plain": [
       "tensor(0)"
      ]
     },
     "execution_count": 11,
     "metadata": {},
     "output_type": "execute_result"
    }
   ],
   "source": [
    "torch.isnan(reward).sum()"
   ]
  },
  {
   "cell_type": "code",
   "execution_count": 12,
   "id": "93e554c4-2dc9-4ae8-9fed-c151dd0a3adc",
   "metadata": {
    "tags": []
   },
   "outputs": [
    {
     "data": {
      "text/plain": [
       "tensor([ 5.0000, -3.0000,  0.0000,  ...,  5.0000,  0.0000, -0.9000])"
      ]
     },
     "execution_count": 12,
     "metadata": {},
     "output_type": "execute_result"
    }
   ],
   "source": [
    "reward"
   ]
  },
  {
   "cell_type": "code",
   "execution_count": 13,
   "id": "7664d701-aa84-4d01-9ca3-05d5280cff54",
   "metadata": {
    "tags": []
   },
   "outputs": [],
   "source": [
    "dummy_reward = reward.clone()"
   ]
  },
  {
   "cell_type": "code",
   "execution_count": 14,
   "id": "40e45dbb-420f-435d-8b3f-d3a07887890c",
   "metadata": {
    "tags": []
   },
   "outputs": [],
   "source": [
    "dummy_reward = dummy_reward[:-1]"
   ]
  },
  {
   "cell_type": "code",
   "execution_count": 15,
   "id": "ceb74194-7832-41ad-aded-c63b9f49286f",
   "metadata": {
    "tags": []
   },
   "outputs": [
    {
     "data": {
      "text/plain": [
       "torch.Size([380691])"
      ]
     },
     "execution_count": 15,
     "metadata": {},
     "output_type": "execute_result"
    }
   ],
   "source": [
    "dummy_reward.shape"
   ]
  },
  {
   "cell_type": "code",
   "execution_count": 16,
   "id": "d80edfd3-98e0-4d00-8c54-07ee3e6e0049",
   "metadata": {},
   "outputs": [],
   "source": [
    "import matplotlib.pyplot as plt"
   ]
  },
  {
   "cell_type": "markdown",
   "id": "e6d96f74-49e1-4dac-ba8c-b5429a04603e",
   "metadata": {},
   "source": [
    "# Q(s, a) = R + g*max(q(s', a))"
   ]
  },
  {
   "cell_type": "code",
   "execution_count": 17,
   "id": "d9352f73-ed13-47bb-a193-8e57058d65eb",
   "metadata": {
    "tags": []
   },
   "outputs": [
    {
     "data": {
      "image/png": "[encoded data removed]",
      "text/plain": [
       "<Figure size 640x480 with 1 Axes>"
      ]
     },
     "metadata": {},
     "output_type": "display_data"
    }
   ],
   "source": [
    "batch_size = 32\n",
    "loss_function = nn.MSELoss()\n",
    "optimizer = torch.optim.Adam(network.parameters())\n",
    "big_loss_list = []\n",
    "\n",
    "epochs = 30\n",
    "\n",
    "for epoch in range(epochs):\n",
    "    loss_list = []\n",
    "\n",
    "    for batch_index in range(0, len(state), batch_size):\n",
    "        state_batch = state[batch_index:batch_index + batch_size]\n",
    "        reward_batch = dummy_reward[batch_index:batch_index + batch_size]\n",
    "        action_batch = action[batch_index:batch_index + batch_size]\n",
    "\n",
    "        q_pred = network(state_batch)\n",
    "        q_true = reward_batch.unsqueeze(1).repeat(1, 7)\n",
    "        q_true *= action_batch\n",
    "        q_pred *= action_batch\n",
    "\n",
    "        loss = loss_function(q_true, q_pred)\n",
    "        loss.backward()\n",
    "        optimizer.step()\n",
    "        optimizer.zero_grad()\n",
    "\n",
    "        loss_list.append(loss.item())\n",
    "\n",
    "    epoch_loss = sum(loss_list) / len(loss_list)\n",
    "    big_loss_list.append(epoch_loss)\n",
    "\n",
    "\n",
    "plt.plot(range(1, epochs + 1), big_loss_list, marker='o')\n",
    "plt.title('Loss Over Epochs')\n",
    "plt.xlabel('Epoch')\n",
    "plt.ylabel('Average Loss')\n",
    "plt.show()"
   ]
  },
  {
   "cell_type": "code",
   "execution_count": 17,
   "id": "a809a647-78e8-432f-87e9-ad1720a7e843",
   "metadata": {
    "tags": []
   },
   "outputs": [
    {
     "data": {
      "text/plain": [
       "30"
      ]
     },
     "execution_count": 17,
     "metadata": {},
     "output_type": "execute_result"
    }
   ],
   "source": [
    "len(big_loss_list)"
   ]
  },
  {
   "cell_type": "code",
   "execution_count": 18,
   "id": "7d0d7b21-4006-4906-9950-3b351e5d8186",
   "metadata": {
    "tags": []
   },
   "outputs": [
    {
     "name": "stdout",
     "output_type": "stream",
     "text": [
      "tensor([[ 0.0000e+00,  0.0000e+00,  0.0000e+00,  0.0000e+00,  0.0000e+00,\n",
      "          0.0000e+00,  0.0000e+00],\n",
      "        [ 0.0000e+00,  0.0000e+00,  1.9600e+01,  0.0000e+00,  0.0000e+00,\n",
      "          0.0000e+00,  0.0000e+00],\n",
      "        [ 0.0000e+00,  0.0000e+00,  0.0000e+00,  0.0000e+00,  0.0000e+00,\n",
      "          0.0000e+00,  2.1000e+00],\n",
      "        [ 0.0000e+00,  0.0000e+00,  0.0000e+00,  0.0000e+00,  0.0000e+00,\n",
      "          0.0000e+00,  2.1000e+00],\n",
      "        [ 0.0000e+00,  0.0000e+00,  1.6600e+01,  0.0000e+00,  0.0000e+00,\n",
      "          0.0000e+00,  0.0000e+00],\n",
      "        [ 0.0000e+00,  0.0000e+00,  0.0000e+00,  0.0000e+00,  0.0000e+00,\n",
      "          0.0000e+00,  1.1000e+00],\n",
      "        [ 0.0000e+00,  0.0000e+00,  7.1000e+00,  0.0000e+00,  0.0000e+00,\n",
      "          0.0000e+00,  0.0000e+00],\n",
      "        [ 0.0000e+00,  0.0000e+00,  0.0000e+00,  0.0000e+00,  0.0000e+00,\n",
      "          0.0000e+00,  9.6000e+00],\n",
      "        [ 0.0000e+00,  0.0000e+00,  0.0000e+00,  0.0000e+00,  0.0000e+00,\n",
      "          0.0000e+00,  2.2100e+01],\n",
      "        [ 0.0000e+00,  0.0000e+00,  9.0000e+00,  0.0000e+00,  0.0000e+00,\n",
      "          0.0000e+00,  0.0000e+00],\n",
      "        [ 0.0000e+00,  0.0000e+00,  0.0000e+00,  0.0000e+00,  0.0000e+00,\n",
      "          0.0000e+00,  9.5000e+00],\n",
      "        [-0.0000e+00, -0.0000e+00, -8.0000e+00, -0.0000e+00, -0.0000e+00,\n",
      "         -0.0000e+00, -0.0000e+00],\n",
      "        [ 0.0000e+00,  0.0000e+00,  0.0000e+00,  0.0000e+00,  0.0000e+00,\n",
      "          0.0000e+00,  0.0000e+00],\n",
      "        [ 0.0000e+00,  0.0000e+00,  9.0000e+00,  0.0000e+00,  0.0000e+00,\n",
      "          0.0000e+00,  0.0000e+00],\n",
      "        [ 0.0000e+00,  0.0000e+00,  0.0000e+00,  0.0000e+00,  0.0000e+00,\n",
      "          0.0000e+00,  8.5000e+00],\n",
      "        [-0.0000e+00, -0.0000e+00, -0.0000e+00, -0.0000e+00, -0.0000e+00,\n",
      "         -0.0000e+00, -1.0000e+00],\n",
      "        [ 0.0000e+00,  0.0000e+00,  1.9500e+01,  0.0000e+00,  0.0000e+00,\n",
      "          0.0000e+00,  0.0000e+00],\n",
      "        [ 0.0000e+00,  0.0000e+00,  2.0000e+00,  0.0000e+00,  0.0000e+00,\n",
      "          0.0000e+00,  0.0000e+00],\n",
      "        [ 0.0000e+00,  0.0000e+00,  0.0000e+00,  0.0000e+00,  0.0000e+00,\n",
      "          0.0000e+00,  2.4500e+01],\n",
      "        [ 0.0000e+00,  0.0000e+00,  0.0000e+00,  0.0000e+00,  0.0000e+00,\n",
      "          0.0000e+00,  7.0000e+00],\n",
      "        [ 0.0000e+00,  0.0000e+00,  0.0000e+00,  0.0000e+00,  0.0000e+00,\n",
      "          0.0000e+00,  1.1350e+02],\n",
      "        [ 0.0000e+00,  0.0000e+00,  0.0000e+00,  0.0000e+00,  0.0000e+00,\n",
      "          0.0000e+00,  0.0000e+00],\n",
      "        [ 0.0000e+00,  0.0000e+00,  0.0000e+00,  0.0000e+00,  0.0000e+00,\n",
      "          0.0000e+00,  0.0000e+00],\n",
      "        [ 0.0000e+00,  0.0000e+00,  2.9500e+01,  0.0000e+00,  0.0000e+00,\n",
      "          0.0000e+00,  0.0000e+00],\n",
      "        [ 0.0000e+00,  0.0000e+00,  0.0000e+00,  0.0000e+00,  0.0000e+00,\n",
      "          0.0000e+00,  5.0000e+00],\n",
      "        [ 0.0000e+00,  0.0000e+00,  0.0000e+00,  0.0000e+00,  0.0000e+00,\n",
      "          0.0000e+00,  0.0000e+00],\n",
      "        [ 0.0000e+00,  0.0000e+00,  8.0000e+00,  0.0000e+00,  0.0000e+00,\n",
      "          0.0000e+00,  0.0000e+00],\n",
      "        [-0.0000e+00, -0.0000e+00, -9.0000e+00, -0.0000e+00, -0.0000e+00,\n",
      "         -0.0000e+00, -0.0000e+00],\n",
      "        [ 0.0000e+00,  0.0000e+00,  0.0000e+00,  0.0000e+00,  0.0000e+00,\n",
      "          0.0000e+00,  0.0000e+00],\n",
      "        [ 0.0000e+00,  1.0000e-01,  0.0000e+00,  0.0000e+00,  0.0000e+00,\n",
      "          0.0000e+00,  0.0000e+00],\n",
      "        [ 0.0000e+00,  0.0000e+00,  0.0000e+00,  0.0000e+00,  0.0000e+00,\n",
      "          0.0000e+00,  5.1000e+00],\n",
      "        [-0.0000e+00, -0.0000e+00, -3.9000e+00, -0.0000e+00, -0.0000e+00,\n",
      "         -0.0000e+00, -0.0000e+00]])\n"
     ]
    }
   ],
   "source": [
    "print(q_true * action_batch)"
   ]
  },
  {
   "cell_type": "code",
   "execution_count": 19,
   "id": "ea52d734-da82-44b0-ac99-27624821fa57",
   "metadata": {},
   "outputs": [
    {
     "data": {
      "text/plain": [
       "11896.59375"
      ]
     },
     "execution_count": 19,
     "metadata": {},
     "output_type": "execute_result"
    }
   ],
   "source": [
    "380691/32"
   ]
  },
  {
   "cell_type": "code",
   "execution_count": 25,
   "id": "a786ce60-563e-4ff7-9952-6a79ae98da77",
   "metadata": {
    "tags": []
   },
   "outputs": [],
   "source": [
    "torch.save(network.state_dict(), \"networkOriginal.pt\")"
   ]
  },
  {
   "cell_type": "code",
   "execution_count": null,
   "id": "ebf8ae77-8780-461b-8293-087f62eb010a",
   "metadata": {},
   "outputs": [],
   "source": []
  }
 ],
 "metadata": {
  "kernelspec": {
   "display_name": "Python 3 (ipykernel)",
   "language": "python",
   "name": "python3"
  },
  "language_info": {
   "codemirror_mode": {
    "name": "ipython",
    "version": 3
   },
   "file_extension": ".py",
   "mimetype": "text/x-python",
   "name": "python",
   "nbconvert_exporter": "python",
   "pygments_lexer": "ipython3",
   "version": "3.8.17"
  }
 },
 "nbformat": 4,
 "nbformat_minor": 5
}
