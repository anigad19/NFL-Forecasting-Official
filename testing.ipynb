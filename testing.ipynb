{
 "cells": [
  {
   "cell_type": "code",
   "execution_count": 1,
   "id": "a4aee197-00e7-4bcb-a061-ba9b980ac6af",
   "metadata": {
    "tags": []
   },
   "outputs": [
    {
     "name": "stderr",
     "output_type": "stream",
     "text": [
      "C:\\Users\\aniga\\AppData\\Local\\Temp\\ipykernel_8704\\1544639564.py:2: DtypeWarning: Columns (42,166,167,168,169,174,175,178,179,182,183,188,189,190,191,194,195,203,204,205,218,219,220,231,232,233,238,240,241,249) have mixed types. Specify dtype option on import or set low_memory=False.\n",
      "  plays = pd.read_csv('NFL Play by Play 2009-2018 (v5).csv')\n"
     ]
    }
   ],
   "source": [
    "import pandas as pd\n",
    "plays = pd.read_csv('NFL Play by Play 2009-2018 (v5).csv')"
   ]
  },
  {
   "cell_type": "code",
   "execution_count": 6,
   "id": "f242cc14-e7ad-4d61-9d22-cd4d67b1c70d",
   "metadata": {
    "tags": []
   },
   "outputs": [],
   "source": [
    "p = set(plays['play_type'])"
   ]
  },
  {
   "cell_type": "code",
   "execution_count": 7,
   "id": "2e08e2b2-0275-4182-8dcc-f4e0fb095e7b",
   "metadata": {
    "tags": []
   },
   "outputs": [],
   "source": [
    "l = list(p)"
   ]
  },
  {
   "cell_type": "code",
   "execution_count": 8,
   "id": "4cc7e99a-1c10-41be-a565-7ffc1bd02176",
   "metadata": {
    "tags": []
   },
   "outputs": [
    {
     "ename": "NameError",
     "evalue": "name 'L' is not defined",
     "output_type": "error",
     "traceback": [
      "\u001b[1;31m---------------------------------------------------------------------------\u001b[0m",
      "\u001b[1;31mNameError\u001b[0m                                 Traceback (most recent call last)",
      "Cell \u001b[1;32mIn[8], line 1\u001b[0m\n\u001b[1;32m----> 1\u001b[0m \u001b[43mL\u001b[49m\n",
      "\u001b[1;31mNameError\u001b[0m: name 'L' is not defined"
     ]
    }
   ],
   "source": [
    "L"
   ]
  },
  {
   "cell_type": "code",
   "execution_count": 9,
   "id": "e422e105-79be-4aad-aa6a-b545a82268d0",
   "metadata": {
    "tags": []
   },
   "outputs": [
    {
     "data": {
      "text/plain": [
       "[nan,\n",
       " 'kickoff',\n",
       " 'run',\n",
       " 'extra_point',\n",
       " 'no_play',\n",
       " 'punt',\n",
       " 'pass',\n",
       " 'qb_spike',\n",
       " 'field_goal',\n",
       " 'qb_kneel']"
      ]
     },
     "execution_count": 9,
     "metadata": {},
     "output_type": "execute_result"
    }
   ],
   "source": [
    "l"
   ]
  },
  {
   "cell_type": "code",
   "execution_count": null,
   "id": "768292ee-d968-4901-8161-1327d28dfd1d",
   "metadata": {},
   "outputs": [],
   "source": []
  }
 ],
 "metadata": {
  "kernelspec": {
   "display_name": "Python 3 (ipykernel)",
   "language": "python",
   "name": "python3"
  },
  "language_info": {
   "codemirror_mode": {
    "name": "ipython",
    "version": 3
   },
   "file_extension": ".py",
   "mimetype": "text/x-python",
   "name": "python",
   "nbconvert_exporter": "python",
   "pygments_lexer": "ipython3",
   "version": "3.8.17"
  }
 },
 "nbformat": 4,
 "nbformat_minor": 5
}
