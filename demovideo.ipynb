{
 "cells": [
  {
   "cell_type": "code",
   "execution_count": 2,
   "id": "67893b41-357e-4c85-b41a-60ede3b3d1ef",
   "metadata": {
    "tags": []
   },
   "outputs": [],
   "source": [
    "import torch\n",
    "import torch.nn as nn\n",
    "import numpy as np\n",
    "import matplotlib.pyplot as plt"
   ]
  },
  {
   "cell_type": "code",
   "execution_count": 3,
   "id": "c8c9e7de-f8f6-4738-90b3-6eda9a1a89ae",
   "metadata": {
    "tags": []
   },
   "outputs": [],
   "source": [
    "network = torch.load(\"network.pt\")"
   ]
  },
  {
   "cell_type": "code",
   "execution_count": 5,
   "id": "1c5ffe88-0530-4feb-a9e4-e9bf4ad28cc0",
   "metadata": {
    "tags": []
   },
   "outputs": [],
   "source": [
    "database = torch.load(\"database.pt\")"
   ]
  },
  {
   "cell_type": "code",
   "execution_count": 6,
   "id": "4b8dd511-cc2b-4d4b-9505-da731aad99a8",
   "metadata": {
    "tags": []
   },
   "outputs": [],
   "source": [
    "state = torch.tensor(database[\"state\"], dtype = torch.float)\n",
    "action = torch.tensor(database['action'].toarray(), dtype = torch.float)\n",
    "reward = torch.tensor(database['reward'], dtype = torch.float)"
   ]
  },
  {
   "cell_type": "code",
   "execution_count": null,
   "id": "aebc4593-f72a-4b2d-93fd-1646b8762726",
   "metadata": {},
   "outputs": [],
   "source": []
  },
  {
   "cell_type": "code",
   "execution_count": null,
   "id": "5bc9fc09-c52a-44b9-b4aa-cbdf66876745",
   "metadata": {},
   "outputs": [],
   "source": []
  },
  {
   "cell_type": "code",
   "execution_count": null,
   "id": "b68606fd-8bdb-4a84-9ca8-a80a9415a2b6",
   "metadata": {},
   "outputs": [],
   "source": []
  }
 ],
 "metadata": {
  "kernelspec": {
   "display_name": "Python 3 (ipykernel)",
   "language": "python",
   "name": "python3"
  },
  "language_info": {
   "codemirror_mode": {
    "name": "ipython",
    "version": 3
   },
   "file_extension": ".py",
   "mimetype": "text/x-python",
   "name": "python",
   "nbconvert_exporter": "python",
   "pygments_lexer": "ipython3",
   "version": "3.8.17"
  }
 },
 "nbformat": 4,
 "nbformat_minor": 5
}
