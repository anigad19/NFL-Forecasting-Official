{
 "cells": [
  {
   "cell_type": "code",
   "execution_count": 9,
   "id": "8917a6f1-221d-41c0-9072-7030e79ff25e",
   "metadata": {
    "tags": []
   },
   "outputs": [],
   "source": [
    "import pandas as pd"
   ]
  },
  {
   "cell_type": "code",
   "execution_count": 10,
   "id": "b52df9ca-864f-4dd6-bfa0-4392e1d7715d",
   "metadata": {
    "tags": []
   },
   "outputs": [
    {
     "name": "stderr",
     "output_type": "stream",
     "text": [
      "C:\\Users\\aniga\\AppData\\Local\\Temp\\ipykernel_16748\\723341633.py:1: DtypeWarning: Columns (42,166,167,168,169,174,175,178,179,182,183,188,189,190,191,194,195,203,204,205,218,219,220,231,232,233,238,240,241,249) have mixed types. Specify dtype option on import or set low_memory=False.\n",
      "  plays = pd.read_csv('NFL Play by Play 2009-2018 (v5).csv')\n"
     ]
    }
   ],
   "source": [
    "plays = pd.read_csv('NFL Play by Play 2009-2018 (v5).csv')"
   ]
  },
  {
   "cell_type": "code",
   "execution_count": 13,
   "id": "483e06a9-bba8-4330-974e-87b5b8618f96",
   "metadata": {
    "tags": []
   },
   "outputs": [
    {
     "data": {
      "text/html": [
       "<div>\n",
       "<style scoped>\n",
       "    .dataframe tbody tr th:only-of-type {\n",
       "        vertical-align: middle;\n",
       "    }\n",
       "\n",
       "    .dataframe tbody tr th {\n",
       "        vertical-align: top;\n",
       "    }\n",
       "\n",
       "    .dataframe thead th {\n",
       "        text-align: right;\n",
       "    }\n",
       "</style>\n",
       "<table border=\"1\" class=\"dataframe\">\n",
       "  <thead>\n",
       "    <tr style=\"text-align: right;\">\n",
       "      <th></th>\n",
       "      <th>play_id</th>\n",
       "      <th>game_id</th>\n",
       "      <th>home_team</th>\n",
       "      <th>away_team</th>\n",
       "      <th>posteam</th>\n",
       "      <th>posteam_type</th>\n",
       "      <th>defteam</th>\n",
       "      <th>side_of_field</th>\n",
       "      <th>yardline_100</th>\n",
       "      <th>game_date</th>\n",
       "      <th>...</th>\n",
       "      <th>penalty_player_id</th>\n",
       "      <th>penalty_player_name</th>\n",
       "      <th>penalty_yards</th>\n",
       "      <th>replay_or_challenge</th>\n",
       "      <th>replay_or_challenge_result</th>\n",
       "      <th>penalty_type</th>\n",
       "      <th>defensive_two_point_attempt</th>\n",
       "      <th>defensive_two_point_conv</th>\n",
       "      <th>defensive_extra_point_attempt</th>\n",
       "      <th>defensive_extra_point_conv</th>\n",
       "    </tr>\n",
       "  </thead>\n",
       "  <tbody>\n",
       "    <tr>\n",
       "      <th>0</th>\n",
       "      <td>46</td>\n",
       "      <td>2009091000</td>\n",
       "      <td>PIT</td>\n",
       "      <td>TEN</td>\n",
       "      <td>PIT</td>\n",
       "      <td>home</td>\n",
       "      <td>TEN</td>\n",
       "      <td>TEN</td>\n",
       "      <td>30.0</td>\n",
       "      <td>2009-09-10</td>\n",
       "      <td>...</td>\n",
       "      <td>NaN</td>\n",
       "      <td>NaN</td>\n",
       "      <td>NaN</td>\n",
       "      <td>0</td>\n",
       "      <td>NaN</td>\n",
       "      <td>NaN</td>\n",
       "      <td>0.0</td>\n",
       "      <td>0.0</td>\n",
       "      <td>0.0</td>\n",
       "      <td>0.0</td>\n",
       "    </tr>\n",
       "    <tr>\n",
       "      <th>1</th>\n",
       "      <td>68</td>\n",
       "      <td>2009091000</td>\n",
       "      <td>PIT</td>\n",
       "      <td>TEN</td>\n",
       "      <td>PIT</td>\n",
       "      <td>home</td>\n",
       "      <td>TEN</td>\n",
       "      <td>PIT</td>\n",
       "      <td>58.0</td>\n",
       "      <td>2009-09-10</td>\n",
       "      <td>...</td>\n",
       "      <td>NaN</td>\n",
       "      <td>NaN</td>\n",
       "      <td>NaN</td>\n",
       "      <td>0</td>\n",
       "      <td>NaN</td>\n",
       "      <td>NaN</td>\n",
       "      <td>0.0</td>\n",
       "      <td>0.0</td>\n",
       "      <td>0.0</td>\n",
       "      <td>0.0</td>\n",
       "    </tr>\n",
       "    <tr>\n",
       "      <th>2</th>\n",
       "      <td>92</td>\n",
       "      <td>2009091000</td>\n",
       "      <td>PIT</td>\n",
       "      <td>TEN</td>\n",
       "      <td>PIT</td>\n",
       "      <td>home</td>\n",
       "      <td>TEN</td>\n",
       "      <td>PIT</td>\n",
       "      <td>53.0</td>\n",
       "      <td>2009-09-10</td>\n",
       "      <td>...</td>\n",
       "      <td>NaN</td>\n",
       "      <td>NaN</td>\n",
       "      <td>NaN</td>\n",
       "      <td>0</td>\n",
       "      <td>NaN</td>\n",
       "      <td>NaN</td>\n",
       "      <td>0.0</td>\n",
       "      <td>0.0</td>\n",
       "      <td>0.0</td>\n",
       "      <td>0.0</td>\n",
       "    </tr>\n",
       "    <tr>\n",
       "      <th>3</th>\n",
       "      <td>113</td>\n",
       "      <td>2009091000</td>\n",
       "      <td>PIT</td>\n",
       "      <td>TEN</td>\n",
       "      <td>PIT</td>\n",
       "      <td>home</td>\n",
       "      <td>TEN</td>\n",
       "      <td>PIT</td>\n",
       "      <td>56.0</td>\n",
       "      <td>2009-09-10</td>\n",
       "      <td>...</td>\n",
       "      <td>NaN</td>\n",
       "      <td>NaN</td>\n",
       "      <td>NaN</td>\n",
       "      <td>0</td>\n",
       "      <td>NaN</td>\n",
       "      <td>NaN</td>\n",
       "      <td>0.0</td>\n",
       "      <td>0.0</td>\n",
       "      <td>0.0</td>\n",
       "      <td>0.0</td>\n",
       "    </tr>\n",
       "    <tr>\n",
       "      <th>4</th>\n",
       "      <td>139</td>\n",
       "      <td>2009091000</td>\n",
       "      <td>PIT</td>\n",
       "      <td>TEN</td>\n",
       "      <td>PIT</td>\n",
       "      <td>home</td>\n",
       "      <td>TEN</td>\n",
       "      <td>PIT</td>\n",
       "      <td>56.0</td>\n",
       "      <td>2009-09-10</td>\n",
       "      <td>...</td>\n",
       "      <td>NaN</td>\n",
       "      <td>NaN</td>\n",
       "      <td>NaN</td>\n",
       "      <td>0</td>\n",
       "      <td>NaN</td>\n",
       "      <td>NaN</td>\n",
       "      <td>0.0</td>\n",
       "      <td>0.0</td>\n",
       "      <td>0.0</td>\n",
       "      <td>0.0</td>\n",
       "    </tr>\n",
       "    <tr>\n",
       "      <th>...</th>\n",
       "      <td>...</td>\n",
       "      <td>...</td>\n",
       "      <td>...</td>\n",
       "      <td>...</td>\n",
       "      <td>...</td>\n",
       "      <td>...</td>\n",
       "      <td>...</td>\n",
       "      <td>...</td>\n",
       "      <td>...</td>\n",
       "      <td>...</td>\n",
       "      <td>...</td>\n",
       "      <td>...</td>\n",
       "      <td>...</td>\n",
       "      <td>...</td>\n",
       "      <td>...</td>\n",
       "      <td>...</td>\n",
       "      <td>...</td>\n",
       "      <td>...</td>\n",
       "      <td>...</td>\n",
       "      <td>...</td>\n",
       "      <td>...</td>\n",
       "    </tr>\n",
       "    <tr>\n",
       "      <th>449366</th>\n",
       "      <td>4059</td>\n",
       "      <td>2018121700</td>\n",
       "      <td>CAR</td>\n",
       "      <td>NO</td>\n",
       "      <td>CAR</td>\n",
       "      <td>home</td>\n",
       "      <td>NO</td>\n",
       "      <td>CAR</td>\n",
       "      <td>66.0</td>\n",
       "      <td>2018-12-17</td>\n",
       "      <td>...</td>\n",
       "      <td>NaN</td>\n",
       "      <td>NaN</td>\n",
       "      <td>NaN</td>\n",
       "      <td>0</td>\n",
       "      <td>NaN</td>\n",
       "      <td>NaN</td>\n",
       "      <td>0.0</td>\n",
       "      <td>0.0</td>\n",
       "      <td>0.0</td>\n",
       "      <td>0.0</td>\n",
       "    </tr>\n",
       "    <tr>\n",
       "      <th>449367</th>\n",
       "      <td>4081</td>\n",
       "      <td>2018121700</td>\n",
       "      <td>CAR</td>\n",
       "      <td>NO</td>\n",
       "      <td>CAR</td>\n",
       "      <td>home</td>\n",
       "      <td>NO</td>\n",
       "      <td>CAR</td>\n",
       "      <td>66.0</td>\n",
       "      <td>2018-12-17</td>\n",
       "      <td>...</td>\n",
       "      <td>NaN</td>\n",
       "      <td>NaN</td>\n",
       "      <td>NaN</td>\n",
       "      <td>0</td>\n",
       "      <td>NaN</td>\n",
       "      <td>NaN</td>\n",
       "      <td>0.0</td>\n",
       "      <td>0.0</td>\n",
       "      <td>0.0</td>\n",
       "      <td>0.0</td>\n",
       "    </tr>\n",
       "    <tr>\n",
       "      <th>449368</th>\n",
       "      <td>4106</td>\n",
       "      <td>2018121700</td>\n",
       "      <td>CAR</td>\n",
       "      <td>NO</td>\n",
       "      <td>CAR</td>\n",
       "      <td>home</td>\n",
       "      <td>NO</td>\n",
       "      <td>CAR</td>\n",
       "      <td>61.0</td>\n",
       "      <td>2018-12-17</td>\n",
       "      <td>...</td>\n",
       "      <td>NaN</td>\n",
       "      <td>NaN</td>\n",
       "      <td>NaN</td>\n",
       "      <td>0</td>\n",
       "      <td>NaN</td>\n",
       "      <td>NaN</td>\n",
       "      <td>0.0</td>\n",
       "      <td>0.0</td>\n",
       "      <td>0.0</td>\n",
       "      <td>0.0</td>\n",
       "    </tr>\n",
       "    <tr>\n",
       "      <th>449369</th>\n",
       "      <td>4128</td>\n",
       "      <td>2018121700</td>\n",
       "      <td>CAR</td>\n",
       "      <td>NO</td>\n",
       "      <td>NO</td>\n",
       "      <td>away</td>\n",
       "      <td>CAR</td>\n",
       "      <td>CAR</td>\n",
       "      <td>39.0</td>\n",
       "      <td>2018-12-17</td>\n",
       "      <td>...</td>\n",
       "      <td>NaN</td>\n",
       "      <td>NaN</td>\n",
       "      <td>NaN</td>\n",
       "      <td>0</td>\n",
       "      <td>NaN</td>\n",
       "      <td>NaN</td>\n",
       "      <td>0.0</td>\n",
       "      <td>0.0</td>\n",
       "      <td>0.0</td>\n",
       "      <td>0.0</td>\n",
       "    </tr>\n",
       "    <tr>\n",
       "      <th>449370</th>\n",
       "      <td>4150</td>\n",
       "      <td>2018121700</td>\n",
       "      <td>CAR</td>\n",
       "      <td>NO</td>\n",
       "      <td>NaN</td>\n",
       "      <td>NaN</td>\n",
       "      <td>NaN</td>\n",
       "      <td>CAR</td>\n",
       "      <td>NaN</td>\n",
       "      <td>2018-12-17</td>\n",
       "      <td>...</td>\n",
       "      <td>NaN</td>\n",
       "      <td>NaN</td>\n",
       "      <td>NaN</td>\n",
       "      <td>0</td>\n",
       "      <td>NaN</td>\n",
       "      <td>NaN</td>\n",
       "      <td>NaN</td>\n",
       "      <td>NaN</td>\n",
       "      <td>NaN</td>\n",
       "      <td>NaN</td>\n",
       "    </tr>\n",
       "  </tbody>\n",
       "</table>\n",
       "<p>449371 rows × 255 columns</p>\n",
       "</div>"
      ],
      "text/plain": [
       "        play_id     game_id home_team away_team posteam posteam_type defteam  \\\n",
       "0            46  2009091000       PIT       TEN     PIT         home     TEN   \n",
       "1            68  2009091000       PIT       TEN     PIT         home     TEN   \n",
       "2            92  2009091000       PIT       TEN     PIT         home     TEN   \n",
       "3           113  2009091000       PIT       TEN     PIT         home     TEN   \n",
       "4           139  2009091000       PIT       TEN     PIT         home     TEN   \n",
       "...         ...         ...       ...       ...     ...          ...     ...   \n",
       "449366     4059  2018121700       CAR        NO     CAR         home      NO   \n",
       "449367     4081  2018121700       CAR        NO     CAR         home      NO   \n",
       "449368     4106  2018121700       CAR        NO     CAR         home      NO   \n",
       "449369     4128  2018121700       CAR        NO      NO         away     CAR   \n",
       "449370     4150  2018121700       CAR        NO     NaN          NaN     NaN   \n",
       "\n",
       "       side_of_field  yardline_100   game_date  ...  penalty_player_id  \\\n",
       "0                TEN          30.0  2009-09-10  ...                NaN   \n",
       "1                PIT          58.0  2009-09-10  ...                NaN   \n",
       "2                PIT          53.0  2009-09-10  ...                NaN   \n",
       "3                PIT          56.0  2009-09-10  ...                NaN   \n",
       "4                PIT          56.0  2009-09-10  ...                NaN   \n",
       "...              ...           ...         ...  ...                ...   \n",
       "449366           CAR          66.0  2018-12-17  ...                NaN   \n",
       "449367           CAR          66.0  2018-12-17  ...                NaN   \n",
       "449368           CAR          61.0  2018-12-17  ...                NaN   \n",
       "449369           CAR          39.0  2018-12-17  ...                NaN   \n",
       "449370           CAR           NaN  2018-12-17  ...                NaN   \n",
       "\n",
       "        penalty_player_name  penalty_yards replay_or_challenge  \\\n",
       "0                       NaN            NaN                   0   \n",
       "1                       NaN            NaN                   0   \n",
       "2                       NaN            NaN                   0   \n",
       "3                       NaN            NaN                   0   \n",
       "4                       NaN            NaN                   0   \n",
       "...                     ...            ...                 ...   \n",
       "449366                  NaN            NaN                   0   \n",
       "449367                  NaN            NaN                   0   \n",
       "449368                  NaN            NaN                   0   \n",
       "449369                  NaN            NaN                   0   \n",
       "449370                  NaN            NaN                   0   \n",
       "\n",
       "        replay_or_challenge_result  penalty_type  defensive_two_point_attempt  \\\n",
       "0                              NaN           NaN                          0.0   \n",
       "1                              NaN           NaN                          0.0   \n",
       "2                              NaN           NaN                          0.0   \n",
       "3                              NaN           NaN                          0.0   \n",
       "4                              NaN           NaN                          0.0   \n",
       "...                            ...           ...                          ...   \n",
       "449366                         NaN           NaN                          0.0   \n",
       "449367                         NaN           NaN                          0.0   \n",
       "449368                         NaN           NaN                          0.0   \n",
       "449369                         NaN           NaN                          0.0   \n",
       "449370                         NaN           NaN                          NaN   \n",
       "\n",
       "        defensive_two_point_conv  defensive_extra_point_attempt  \\\n",
       "0                            0.0                            0.0   \n",
       "1                            0.0                            0.0   \n",
       "2                            0.0                            0.0   \n",
       "3                            0.0                            0.0   \n",
       "4                            0.0                            0.0   \n",
       "...                          ...                            ...   \n",
       "449366                       0.0                            0.0   \n",
       "449367                       0.0                            0.0   \n",
       "449368                       0.0                            0.0   \n",
       "449369                       0.0                            0.0   \n",
       "449370                       NaN                            NaN   \n",
       "\n",
       "        defensive_extra_point_conv  \n",
       "0                              0.0  \n",
       "1                              0.0  \n",
       "2                              0.0  \n",
       "3                              0.0  \n",
       "4                              0.0  \n",
       "...                            ...  \n",
       "449366                         0.0  \n",
       "449367                         0.0  \n",
       "449368                         0.0  \n",
       "449369                         0.0  \n",
       "449370                         NaN  \n",
       "\n",
       "[449371 rows x 255 columns]"
      ]
     },
     "execution_count": 13,
     "metadata": {},
     "output_type": "execute_result"
    }
   ],
   "source": [
    "plays"
   ]
  },
  {
   "cell_type": "code",
   "execution_count": 3,
   "id": "27f4fd75-8f3f-4128-9008-6aeffe693f82",
   "metadata": {
    "tags": []
   },
   "outputs": [],
   "source": [
    "plays = plays[[\n",
    "    'total_away_score',\n",
    "    'posteam_score',\n",
    "    'defteam_score',\n",
    "    'score_differential',\n",
    "    'yardline_100',\n",
    "    'down',\n",
    "    'goal_to_go',\n",
    "    'ydstogo',\n",
    "    'ydsnet',\n",
    "    'quarter_seconds_remaining',\n",
    "    'half_seconds_remaining',\n",
    "    'game_seconds_remaining',\n",
    "    'quarter_end',\n",
    "    'yards_gained',\n",
    "    'posteam_score_post',\n",
    "    'defteam_score_post',\n",
    "    'score_differential_post',\n",
    "    'first_down_rush',\n",
    "    'first_down_pass',\n",
    "    'first_down_penalty',\n",
    "    'third_down_converted',\n",
    "    'third_down_failed',\n",
    "    'fourth_down_converted',\n",
    "    'fourth_down_failed',\n",
    "    'play_type'\n",
    "]]\n",
    "    "
   ]
  },
  {
   "cell_type": "code",
   "execution_count": 4,
   "id": "9c8f7c49-b371-4491-8de9-9d7ad49f6776",
   "metadata": {
    "tags": []
   },
   "outputs": [],
   "source": [
    "plays = plays.dropna()"
   ]
  },
  {
   "cell_type": "code",
   "execution_count": 14,
   "id": "b3deec0d-b487-4a34-a437-d46a14763f32",
   "metadata": {
    "tags": []
   },
   "outputs": [],
   "source": [
    "state = plays[[\n",
    "    'total_away_score',\n",
    "    'posteam_score',\n",
    "    'defteam_score',\n",
    "    'score_differential',\n",
    "    'yardline_100',\n",
    "    'down',\n",
    "    'goal_to_go',\n",
    "    'ydstogo',\n",
    "    'ydsnet',\n",
    "    'quarter_seconds_remaining',\n",
    "    'half_seconds_remaining',\n",
    "    'game_seconds_remaining',\n",
    "    'quarter_end',\n",
    "]]"
   ]
  },
  {
   "cell_type": "code",
   "execution_count": 22,
   "id": "8af0baec-34d7-437a-a744-5347a2df3897",
   "metadata": {
    "tags": []
   },
   "outputs": [
    {
     "data": {
      "text/plain": [
       "total_away_score                3.0\n",
       "posteam_score                   3.0\n",
       "defteam_score                  14.0\n",
       "score_differential            -11.0\n",
       "yardline_100                   39.0\n",
       "down                            1.0\n",
       "goal_to_go                      0.0\n",
       "ydstogo                        10.0\n",
       "ydsnet                         41.0\n",
       "quarter_seconds_remaining      91.0\n",
       "half_seconds_remaining         91.0\n",
       "game_seconds_remaining       1891.0\n",
       "quarter_end                     0.0\n",
       "Name: 300045, dtype: float64"
      ]
     },
     "execution_count": 22,
     "metadata": {},
     "output_type": "execute_result"
    }
   ],
   "source": [
    "state.iloc[300045]"
   ]
  },
  {
   "cell_type": "code",
   "execution_count": 21,
   "id": "01214300-89a9-4990-a3a1-199679bfce76",
   "metadata": {
    "tags": []
   },
   "outputs": [
    {
     "data": {
      "text/plain": [
       "play_type    run\n",
       "Name: 400, dtype: object"
      ]
     },
     "execution_count": 21,
     "metadata": {},
     "output_type": "execute_result"
    }
   ],
   "source": [
    "actions.iloc[400]"
   ]
  },
  {
   "cell_type": "code",
   "execution_count": 6,
   "id": "1a0b66cd-124f-46f2-b81b-a19f46acbc61",
   "metadata": {
    "tags": []
   },
   "outputs": [],
   "source": [
    "rewards = plays[[\n",
    "    'yards_gained',\n",
    "    'posteam_score_post',\n",
    "    'defteam_score_post',\n",
    "    'score_differential',\n",
    "    'score_differential_post',\n",
    "    'first_down_rush',\n",
    "    'first_down_pass',\n",
    "    'first_down_penalty',\n",
    "    'third_down_converted',\n",
    "    'third_down_failed',\n",
    "    'fourth_down_converted',\n",
    "    'fourth_down_failed',\n",
    "                ]]"
   ]
  },
  {
   "cell_type": "code",
   "execution_count": 7,
   "id": "da36f6af-26e0-48e7-9009-29f625cc5783",
   "metadata": {
    "tags": []
   },
   "outputs": [
    {
     "data": {
      "text/plain": [
       "\"\\nrewards2 = plays[['return_team',\\n    'return_yards',\\n    'penalty_team',\\n    'penalty_yards',\\n    'replay_or_challenge',\\n    'replay_or_challenge_result',\\n    'penalty_type',\\n    'defensive_two_point_attempt',\\n    'defensive_two_point_conv',\\n    'defensive_extra_point_attempt',\\n    'defensive_extra_point_conv']]\\n    \""
      ]
     },
     "execution_count": 7,
     "metadata": {},
     "output_type": "execute_result"
    }
   ],
   "source": [
    "\"\"\"\n",
    "rewards2 = plays[['return_team',\n",
    "    'return_yards',\n",
    "    'penalty_team',\n",
    "    'penalty_yards',\n",
    "    'replay_or_challenge',\n",
    "    'replay_or_challenge_result',\n",
    "    'penalty_type',\n",
    "    'defensive_two_point_attempt',\n",
    "    'defensive_two_point_conv',\n",
    "    'defensive_extra_point_attempt',\n",
    "    'defensive_extra_point_conv']]\n",
    "    \"\"\""
   ]
  },
  {
   "cell_type": "code",
   "execution_count": 16,
   "id": "8ba4e24a-0d04-4338-84f1-dcfc99c8e0d7",
   "metadata": {
    "tags": []
   },
   "outputs": [],
   "source": [
    "actions = plays[['play_type']]"
   ]
  },
  {
   "cell_type": "code",
   "execution_count": 150,
   "id": "00001ea4-6aa0-47c4-b289-e5d53b0f4b84",
   "metadata": {
    "tags": []
   },
   "outputs": [
    {
     "ename": "NameError",
     "evalue": "name 'rewards2' is not defined",
     "output_type": "error",
     "traceback": [
      "\u001b[1;31m---------------------------------------------------------------------------\u001b[0m",
      "\u001b[1;31mNameError\u001b[0m                                 Traceback (most recent call last)",
      "Cell \u001b[1;32mIn[150], line 1\u001b[0m\n\u001b[1;32m----> 1\u001b[0m \u001b[43mrewards2\u001b[49m\u001b[38;5;241m.\u001b[39mfillna(\u001b[38;5;241m0\u001b[39m)\n",
      "\u001b[1;31mNameError\u001b[0m: name 'rewards2' is not defined"
     ]
    }
   ],
   "source": [
    "rewards2.fillna(0)"
   ]
  },
  {
   "cell_type": "code",
   "execution_count": 151,
   "id": "816714e1-d9f2-427f-b226-2730cbfbdcd5",
   "metadata": {
    "tags": []
   },
   "outputs": [
    {
     "data": {
      "text/html": [
       "<div>\n",
       "<style scoped>\n",
       "    .dataframe tbody tr th:only-of-type {\n",
       "        vertical-align: middle;\n",
       "    }\n",
       "\n",
       "    .dataframe tbody tr th {\n",
       "        vertical-align: top;\n",
       "    }\n",
       "\n",
       "    .dataframe thead th {\n",
       "        text-align: right;\n",
       "    }\n",
       "</style>\n",
       "<table border=\"1\" class=\"dataframe\">\n",
       "  <thead>\n",
       "    <tr style=\"text-align: right;\">\n",
       "      <th></th>\n",
       "      <th>play_type</th>\n",
       "    </tr>\n",
       "  </thead>\n",
       "  <tbody>\n",
       "    <tr>\n",
       "      <th>1</th>\n",
       "      <td>pass</td>\n",
       "    </tr>\n",
       "    <tr>\n",
       "      <th>2</th>\n",
       "      <td>run</td>\n",
       "    </tr>\n",
       "    <tr>\n",
       "      <th>3</th>\n",
       "      <td>pass</td>\n",
       "    </tr>\n",
       "    <tr>\n",
       "      <th>4</th>\n",
       "      <td>punt</td>\n",
       "    </tr>\n",
       "    <tr>\n",
       "      <th>5</th>\n",
       "      <td>run</td>\n",
       "    </tr>\n",
       "    <tr>\n",
       "      <th>...</th>\n",
       "      <td>...</td>\n",
       "    </tr>\n",
       "    <tr>\n",
       "      <th>449365</th>\n",
       "      <td>qb_spike</td>\n",
       "    </tr>\n",
       "    <tr>\n",
       "      <th>449366</th>\n",
       "      <td>pass</td>\n",
       "    </tr>\n",
       "    <tr>\n",
       "      <th>449367</th>\n",
       "      <td>pass</td>\n",
       "    </tr>\n",
       "    <tr>\n",
       "      <th>449368</th>\n",
       "      <td>pass</td>\n",
       "    </tr>\n",
       "    <tr>\n",
       "      <th>449369</th>\n",
       "      <td>qb_kneel</td>\n",
       "    </tr>\n",
       "  </tbody>\n",
       "</table>\n",
       "<p>380692 rows × 1 columns</p>\n",
       "</div>"
      ],
      "text/plain": [
       "       play_type\n",
       "1           pass\n",
       "2            run\n",
       "3           pass\n",
       "4           punt\n",
       "5            run\n",
       "...          ...\n",
       "449365  qb_spike\n",
       "449366      pass\n",
       "449367      pass\n",
       "449368      pass\n",
       "449369  qb_kneel\n",
       "\n",
       "[380692 rows x 1 columns]"
      ]
     },
     "execution_count": 151,
     "metadata": {},
     "output_type": "execute_result"
    }
   ],
   "source": [
    "actions"
   ]
  },
  {
   "cell_type": "code",
   "execution_count": 152,
   "id": "412fcfac-97da-46ff-b0a4-d07f8456b3c1",
   "metadata": {
    "tags": []
   },
   "outputs": [
    {
     "data": {
      "text/plain": [
       "play_type    0\n",
       "dtype: int64"
      ]
     },
     "execution_count": 152,
     "metadata": {},
     "output_type": "execute_result"
    }
   ],
   "source": [
    "actions.isna().sum()"
   ]
  },
  {
   "cell_type": "code",
   "execution_count": 153,
   "id": "4377f495-5d73-4328-81ee-7229f31263e9",
   "metadata": {
    "tags": []
   },
   "outputs": [
    {
     "data": {
      "text/plain": [
       "1         0.0\n",
       "2         0.0\n",
       "3         0.0\n",
       "4         0.0\n",
       "5         0.0\n",
       "         ... \n",
       "449365   -5.0\n",
       "449366   -5.0\n",
       "449367   -5.0\n",
       "449368   -5.0\n",
       "449369    5.0\n",
       "Name: score_differential, Length: 380692, dtype: float64"
      ]
     },
     "execution_count": 153,
     "metadata": {},
     "output_type": "execute_result"
    }
   ],
   "source": [
    "plays['score_differential']"
   ]
  },
  {
   "cell_type": "code",
   "execution_count": 154,
   "id": "8107273a-95c3-431f-8230-082d0deef655",
   "metadata": {
    "tags": []
   },
   "outputs": [
    {
     "data": {
      "text/plain": [
       "1         0.0\n",
       "2         0.0\n",
       "3         0.0\n",
       "4         0.0\n",
       "5         0.0\n",
       "         ... \n",
       "449365    0.0\n",
       "449366    0.0\n",
       "449367    0.0\n",
       "449368    0.0\n",
       "449369    0.0\n",
       "Name: first_down_rush, Length: 380692, dtype: float64"
      ]
     },
     "execution_count": 154,
     "metadata": {},
     "output_type": "execute_result"
    }
   ],
   "source": [
    "plays['first_down_rush']"
   ]
  },
  {
   "cell_type": "code",
   "execution_count": 24,
   "id": "64ea0ba8-c663-4188-ae39-52e0a996115f",
   "metadata": {
    "tags": []
   },
   "outputs": [],
   "source": [
    "def get_reward(rewards):\n",
    "    \n",
    "    # get reward if got yards\n",
    "    yard_reward = 0\n",
    "    yard_reward = rewards['yards_gained'] * 1\n",
    "    \n",
    "    # get small reward for being in the lead\n",
    "    score_differential_reward = rewards['score_differential']>0\n",
    "    score_differential_reward *= 0.1\n",
    "        \n",
    "    did_score =  rewards['score_differential_post'] - rewards['score_differential']\n",
    "    did_score *= 15\n",
    "    \n",
    "    # get big reward for first down conversion (rush or pass)\n",
    "    first_down_conversion_reward = rewards['first_down_rush'] * 7.5 + rewards['first_down_pass'] * 7.5\n",
    "    \n",
    "    # total reward\n",
    "    combined_reward = yard_reward + score_differential_reward + first_down_conversion_reward + did_score\n",
    "    \n",
    "    return combined_reward"
   ]
  },
  {
   "cell_type": "code",
   "execution_count": 25,
   "id": "45ca51b7-2207-48dd-b522-a61b4e665f43",
   "metadata": {
    "tags": []
   },
   "outputs": [],
   "source": [
    "rewards = rewards.loc[:,~rewards.columns.duplicated()].copy()\n"
   ]
  },
  {
   "cell_type": "code",
   "execution_count": 26,
   "id": "0b2adb35-4aed-4c5d-bca2-d57c9cf142d6",
   "metadata": {
    "tags": []
   },
   "outputs": [
    {
     "data": {
      "text/plain": [
       "0         0.0\n",
       "1         5.0\n",
       "2        -3.0\n",
       "3         0.0\n",
       "4         0.0\n",
       "         ... \n",
       "449366    0.0\n",
       "449367    5.0\n",
       "449368    0.0\n",
       "449369   -1.0\n",
       "449370    0.0\n",
       "Name: yards_gained, Length: 449371, dtype: float64"
      ]
     },
     "execution_count": 26,
     "metadata": {},
     "output_type": "execute_result"
    }
   ],
   "source": [
    "rewards['yards_gained']"
   ]
  },
  {
   "cell_type": "code",
   "execution_count": 27,
   "id": "afffa9c8-67f5-4176-bc43-544309eb2a5e",
   "metadata": {
    "tags": []
   },
   "outputs": [],
   "source": [
    "rewards = get_reward(rewards)"
   ]
  },
  {
   "cell_type": "code",
   "execution_count": 42,
   "id": "4ae66dba-4450-4c26-ac85-b1745d167b8b",
   "metadata": {},
   "outputs": [
    {
     "data": {
      "text/plain": [
       "0         NaN\n",
       "1         5.0\n",
       "2        -3.0\n",
       "3         0.0\n",
       "4         0.0\n",
       "         ... \n",
       "449366    0.0\n",
       "449367    5.0\n",
       "449368    0.0\n",
       "449369   -0.9\n",
       "449370    NaN\n",
       "Length: 449371, dtype: float64"
      ]
     },
     "execution_count": 42,
     "metadata": {},
     "output_type": "execute_result"
    }
   ],
   "source": [
    "rewards"
   ]
  },
  {
   "cell_type": "code",
   "execution_count": 160,
   "id": "a8ca3065-0cf9-4a9c-a97e-d57a641089ab",
   "metadata": {
    "tags": []
   },
   "outputs": [
    {
     "data": {
      "text/plain": [
       "total_away_score             0\n",
       "posteam_score                0\n",
       "defteam_score                0\n",
       "score_differential           0\n",
       "yardline_100                 0\n",
       "down                         0\n",
       "goal_to_go                   0\n",
       "ydstogo                      0\n",
       "ydsnet                       0\n",
       "quarter_seconds_remaining    0\n",
       "half_seconds_remaining       0\n",
       "game_seconds_remaining       0\n",
       "quarter_end                  0\n",
       "dtype: int64"
      ]
     },
     "execution_count": 160,
     "metadata": {},
     "output_type": "execute_result"
    }
   ],
   "source": [
    "state.isna().sum()"
   ]
  },
  {
   "cell_type": "code",
   "execution_count": 161,
   "id": "c6ec9b1f-09e2-402e-8423-8bfc9b7e184f",
   "metadata": {
    "tags": []
   },
   "outputs": [],
   "source": [
    "import torch"
   ]
  },
  {
   "cell_type": "code",
   "execution_count": 162,
   "id": "2499349a-4f46-4d23-ba57-8e2fd6132183",
   "metadata": {
    "tags": []
   },
   "outputs": [],
   "source": [
    "torch.save({\"state\": state}, \"database.pt\")"
   ]
  },
  {
   "cell_type": "code",
   "execution_count": 163,
   "id": "3e8f67a6-431d-4cc1-bb1b-e7ed39c2358e",
   "metadata": {
    "tags": []
   },
   "outputs": [],
   "source": [
    "s = torch.load(\"database.pt\")"
   ]
  },
  {
   "cell_type": "code",
   "execution_count": 164,
   "id": "922983de-50a6-4dc2-87e4-91d26c0937d7",
   "metadata": {
    "tags": []
   },
   "outputs": [
    {
     "data": {
      "text/plain": [
       "(380692, 13)"
      ]
     },
     "execution_count": 164,
     "metadata": {},
     "output_type": "execute_result"
    }
   ],
   "source": [
    "state.shape"
   ]
  },
  {
   "cell_type": "code",
   "execution_count": 165,
   "id": "494767d2-4cf7-447c-b83f-86fb3f846af9",
   "metadata": {},
   "outputs": [],
   "source": [
    "import matplotlib.pyplot as plt"
   ]
  },
  {
   "cell_type": "code",
   "execution_count": null,
   "id": "bb34a7b9-8374-4127-b186-77f39cfd24a7",
   "metadata": {},
   "outputs": [],
   "source": []
  },
  {
   "cell_type": "code",
   "execution_count": 29,
   "id": "36aec8a9-104f-4d35-b59c-2cc31866516f",
   "metadata": {},
   "outputs": [
    {
     "data": {
      "text/plain": [
       "15632"
      ]
     },
     "execution_count": 29,
     "metadata": {},
     "output_type": "execute_result"
    }
   ],
   "source": [
    "rewards.isna().sum()"
   ]
  },
  {
   "cell_type": "code",
   "execution_count": 30,
   "id": "747603c8-be1e-4d75-9ee3-5aa51efa47bb",
   "metadata": {
    "tags": []
   },
   "outputs": [
    {
     "data": {
      "text/plain": [
       "dtype('float64')"
      ]
     },
     "execution_count": 30,
     "metadata": {},
     "output_type": "execute_result"
    }
   ],
   "source": [
    "rewards.dtypes"
   ]
  },
  {
   "cell_type": "code",
   "execution_count": 31,
   "id": "2d69ab45-9ff1-42cd-a176-57d511bd6d4b",
   "metadata": {
    "tags": []
   },
   "outputs": [
    {
     "data": {
      "text/plain": [
       "dtype('bool')"
      ]
     },
     "execution_count": 31,
     "metadata": {},
     "output_type": "execute_result"
    }
   ],
   "source": [
    "rewards.notna().dtypes"
   ]
  },
  {
   "cell_type": "code",
   "execution_count": 32,
   "id": "fd47ff6b-f0eb-4247-9ab7-60049b8cf094",
   "metadata": {
    "tags": []
   },
   "outputs": [
    {
     "data": {
      "text/plain": [
       "(449371,)"
      ]
     },
     "execution_count": 32,
     "metadata": {},
     "output_type": "execute_result"
    }
   ],
   "source": [
    "rewards.shape"
   ]
  },
  {
   "cell_type": "code",
   "execution_count": 35,
   "id": "68c6b115-65ac-49b2-8d61-c212bb7fbc60",
   "metadata": {
    "tags": []
   },
   "outputs": [],
   "source": [
    "from sklearn.preprocessing import Normalizer"
   ]
  },
  {
   "cell_type": "code",
   "execution_count": 171,
   "id": "af1f9912-7577-4dff-9195-dfacb51a614e",
   "metadata": {
    "tags": []
   },
   "outputs": [
    {
     "data": {
      "text/html": [
       "<style>#sk-container-id-6 {color: black;}#sk-container-id-6 pre{padding: 0;}#sk-container-id-6 div.sk-toggleable {background-color: white;}#sk-container-id-6 label.sk-toggleable__label {cursor: pointer;display: block;width: 100%;margin-bottom: 0;padding: 0.3em;box-sizing: border-box;text-align: center;}#sk-container-id-6 label.sk-toggleable__label-arrow:before {content: \"▸\";float: left;margin-right: 0.25em;color: #696969;}#sk-container-id-6 label.sk-toggleable__label-arrow:hover:before {color: black;}#sk-container-id-6 div.sk-estimator:hover label.sk-toggleable__label-arrow:before {color: black;}#sk-container-id-6 div.sk-toggleable__content {max-height: 0;max-width: 0;overflow: hidden;text-align: left;background-color: #f0f8ff;}#sk-container-id-6 div.sk-toggleable__content pre {margin: 0.2em;color: black;border-radius: 0.25em;background-color: #f0f8ff;}#sk-container-id-6 input.sk-toggleable__control:checked~div.sk-toggleable__content {max-height: 200px;max-width: 100%;overflow: auto;}#sk-container-id-6 input.sk-toggleable__control:checked~label.sk-toggleable__label-arrow:before {content: \"▾\";}#sk-container-id-6 div.sk-estimator input.sk-toggleable__control:checked~label.sk-toggleable__label {background-color: #d4ebff;}#sk-container-id-6 div.sk-label input.sk-toggleable__control:checked~label.sk-toggleable__label {background-color: #d4ebff;}#sk-container-id-6 input.sk-hidden--visually {border: 0;clip: rect(1px 1px 1px 1px);clip: rect(1px, 1px, 1px, 1px);height: 1px;margin: -1px;overflow: hidden;padding: 0;position: absolute;width: 1px;}#sk-container-id-6 div.sk-estimator {font-family: monospace;background-color: #f0f8ff;border: 1px dotted black;border-radius: 0.25em;box-sizing: border-box;margin-bottom: 0.5em;}#sk-container-id-6 div.sk-estimator:hover {background-color: #d4ebff;}#sk-container-id-6 div.sk-parallel-item::after {content: \"\";width: 100%;border-bottom: 1px solid gray;flex-grow: 1;}#sk-container-id-6 div.sk-label:hover label.sk-toggleable__label {background-color: #d4ebff;}#sk-container-id-6 div.sk-serial::before {content: \"\";position: absolute;border-left: 1px solid gray;box-sizing: border-box;top: 0;bottom: 0;left: 50%;z-index: 0;}#sk-container-id-6 div.sk-serial {display: flex;flex-direction: column;align-items: center;background-color: white;padding-right: 0.2em;padding-left: 0.2em;position: relative;}#sk-container-id-6 div.sk-item {position: relative;z-index: 1;}#sk-container-id-6 div.sk-parallel {display: flex;align-items: stretch;justify-content: center;background-color: white;position: relative;}#sk-container-id-6 div.sk-item::before, #sk-container-id-6 div.sk-parallel-item::before {content: \"\";position: absolute;border-left: 1px solid gray;box-sizing: border-box;top: 0;bottom: 0;left: 50%;z-index: -1;}#sk-container-id-6 div.sk-parallel-item {display: flex;flex-direction: column;z-index: 1;position: relative;background-color: white;}#sk-container-id-6 div.sk-parallel-item:first-child::after {align-self: flex-end;width: 50%;}#sk-container-id-6 div.sk-parallel-item:last-child::after {align-self: flex-start;width: 50%;}#sk-container-id-6 div.sk-parallel-item:only-child::after {width: 0;}#sk-container-id-6 div.sk-dashed-wrapped {border: 1px dashed gray;margin: 0 0.4em 0.5em 0.4em;box-sizing: border-box;padding-bottom: 0.4em;background-color: white;}#sk-container-id-6 div.sk-label label {font-family: monospace;font-weight: bold;display: inline-block;line-height: 1.2em;}#sk-container-id-6 div.sk-label-container {text-align: center;}#sk-container-id-6 div.sk-container {/* jupyter's `normalize.less` sets `[hidden] { display: none; }` but bootstrap.min.css set `[hidden] { display: none !important; }` so we also need the `!important` here to be able to override the default hidden behavior on the sphinx rendered scikit-learn.org. See: https://github.com/scikit-learn/scikit-learn/issues/21755 */display: inline-block !important;position: relative;}#sk-container-id-6 div.sk-text-repr-fallback {display: none;}</style><div id=\"sk-container-id-6\" class=\"sk-top-container\"><div class=\"sk-text-repr-fallback\"><pre>Normalizer()</pre><b>In a Jupyter environment, please rerun this cell to show the HTML representation or trust the notebook. <br />On GitHub, the HTML representation is unable to render, please try loading this page with nbviewer.org.</b></div><div class=\"sk-container\" hidden><div class=\"sk-item\"><div class=\"sk-estimator sk-toggleable\"><input class=\"sk-toggleable__control sk-hidden--visually\" id=\"sk-estimator-id-6\" type=\"checkbox\" checked><label for=\"sk-estimator-id-6\" class=\"sk-toggleable__label sk-toggleable__label-arrow\">Normalizer</label><div class=\"sk-toggleable__content\"><pre>Normalizer()</pre></div></div></div></div></div>"
      ],
      "text/plain": [
       "Normalizer()"
      ]
     },
     "execution_count": 171,
     "metadata": {},
     "output_type": "execute_result"
    }
   ],
   "source": [
    "transformer"
   ]
  },
  {
   "cell_type": "code",
   "execution_count": 172,
   "id": "fe2d40ac-faef-476e-a309-c00e6c9ae08f",
   "metadata": {
    "tags": []
   },
   "outputs": [],
   "source": [
    "transformer_state = Normalizer().fit(state)"
   ]
  },
  {
   "cell_type": "code",
   "execution_count": 173,
   "id": "454ef1aa-e9ee-4a44-ac4e-8493741aa2fc",
   "metadata": {
    "tags": []
   },
   "outputs": [
    {
     "data": {
      "text/html": [
       "<style>#sk-container-id-7 {color: black;}#sk-container-id-7 pre{padding: 0;}#sk-container-id-7 div.sk-toggleable {background-color: white;}#sk-container-id-7 label.sk-toggleable__label {cursor: pointer;display: block;width: 100%;margin-bottom: 0;padding: 0.3em;box-sizing: border-box;text-align: center;}#sk-container-id-7 label.sk-toggleable__label-arrow:before {content: \"▸\";float: left;margin-right: 0.25em;color: #696969;}#sk-container-id-7 label.sk-toggleable__label-arrow:hover:before {color: black;}#sk-container-id-7 div.sk-estimator:hover label.sk-toggleable__label-arrow:before {color: black;}#sk-container-id-7 div.sk-toggleable__content {max-height: 0;max-width: 0;overflow: hidden;text-align: left;background-color: #f0f8ff;}#sk-container-id-7 div.sk-toggleable__content pre {margin: 0.2em;color: black;border-radius: 0.25em;background-color: #f0f8ff;}#sk-container-id-7 input.sk-toggleable__control:checked~div.sk-toggleable__content {max-height: 200px;max-width: 100%;overflow: auto;}#sk-container-id-7 input.sk-toggleable__control:checked~label.sk-toggleable__label-arrow:before {content: \"▾\";}#sk-container-id-7 div.sk-estimator input.sk-toggleable__control:checked~label.sk-toggleable__label {background-color: #d4ebff;}#sk-container-id-7 div.sk-label input.sk-toggleable__control:checked~label.sk-toggleable__label {background-color: #d4ebff;}#sk-container-id-7 input.sk-hidden--visually {border: 0;clip: rect(1px 1px 1px 1px);clip: rect(1px, 1px, 1px, 1px);height: 1px;margin: -1px;overflow: hidden;padding: 0;position: absolute;width: 1px;}#sk-container-id-7 div.sk-estimator {font-family: monospace;background-color: #f0f8ff;border: 1px dotted black;border-radius: 0.25em;box-sizing: border-box;margin-bottom: 0.5em;}#sk-container-id-7 div.sk-estimator:hover {background-color: #d4ebff;}#sk-container-id-7 div.sk-parallel-item::after {content: \"\";width: 100%;border-bottom: 1px solid gray;flex-grow: 1;}#sk-container-id-7 div.sk-label:hover label.sk-toggleable__label {background-color: #d4ebff;}#sk-container-id-7 div.sk-serial::before {content: \"\";position: absolute;border-left: 1px solid gray;box-sizing: border-box;top: 0;bottom: 0;left: 50%;z-index: 0;}#sk-container-id-7 div.sk-serial {display: flex;flex-direction: column;align-items: center;background-color: white;padding-right: 0.2em;padding-left: 0.2em;position: relative;}#sk-container-id-7 div.sk-item {position: relative;z-index: 1;}#sk-container-id-7 div.sk-parallel {display: flex;align-items: stretch;justify-content: center;background-color: white;position: relative;}#sk-container-id-7 div.sk-item::before, #sk-container-id-7 div.sk-parallel-item::before {content: \"\";position: absolute;border-left: 1px solid gray;box-sizing: border-box;top: 0;bottom: 0;left: 50%;z-index: -1;}#sk-container-id-7 div.sk-parallel-item {display: flex;flex-direction: column;z-index: 1;position: relative;background-color: white;}#sk-container-id-7 div.sk-parallel-item:first-child::after {align-self: flex-end;width: 50%;}#sk-container-id-7 div.sk-parallel-item:last-child::after {align-self: flex-start;width: 50%;}#sk-container-id-7 div.sk-parallel-item:only-child::after {width: 0;}#sk-container-id-7 div.sk-dashed-wrapped {border: 1px dashed gray;margin: 0 0.4em 0.5em 0.4em;box-sizing: border-box;padding-bottom: 0.4em;background-color: white;}#sk-container-id-7 div.sk-label label {font-family: monospace;font-weight: bold;display: inline-block;line-height: 1.2em;}#sk-container-id-7 div.sk-label-container {text-align: center;}#sk-container-id-7 div.sk-container {/* jupyter's `normalize.less` sets `[hidden] { display: none; }` but bootstrap.min.css set `[hidden] { display: none !important; }` so we also need the `!important` here to be able to override the default hidden behavior on the sphinx rendered scikit-learn.org. See: https://github.com/scikit-learn/scikit-learn/issues/21755 */display: inline-block !important;position: relative;}#sk-container-id-7 div.sk-text-repr-fallback {display: none;}</style><div id=\"sk-container-id-7\" class=\"sk-top-container\"><div class=\"sk-text-repr-fallback\"><pre>Normalizer()</pre><b>In a Jupyter environment, please rerun this cell to show the HTML representation or trust the notebook. <br />On GitHub, the HTML representation is unable to render, please try loading this page with nbviewer.org.</b></div><div class=\"sk-container\" hidden><div class=\"sk-item\"><div class=\"sk-estimator sk-toggleable\"><input class=\"sk-toggleable__control sk-hidden--visually\" id=\"sk-estimator-id-7\" type=\"checkbox\" checked><label for=\"sk-estimator-id-7\" class=\"sk-toggleable__label sk-toggleable__label-arrow\">Normalizer</label><div class=\"sk-toggleable__content\"><pre>Normalizer()</pre></div></div></div></div></div>"
      ],
      "text/plain": [
       "Normalizer()"
      ]
     },
     "execution_count": 173,
     "metadata": {},
     "output_type": "execute_result"
    }
   ],
   "source": [
    "transformer_state"
   ]
  },
  {
   "cell_type": "code",
   "execution_count": 174,
   "id": "7441661b-3bc5-4a44-a46d-267ea68063de",
   "metadata": {
    "tags": []
   },
   "outputs": [],
   "source": [
    "normal_state = transformer_state.transform(state)"
   ]
  },
  {
   "cell_type": "code",
   "execution_count": null,
   "id": "71c2b98a-01f3-42b7-be2a-aa0642fb5dba",
   "metadata": {},
   "outputs": [],
   "source": []
  },
  {
   "cell_type": "code",
   "execution_count": null,
   "id": "b4a5df39-3045-43ab-860e-eb38baeb741d",
   "metadata": {},
   "outputs": [],
   "source": []
  },
  {
   "cell_type": "code",
   "execution_count": 175,
   "id": "f6a1cf7a-f4de-4b66-92cc-db33fd8d3aa6",
   "metadata": {
    "tags": []
   },
   "outputs": [
    {
     "data": {
      "text/plain": [
       "0"
      ]
     },
     "execution_count": 175,
     "metadata": {},
     "output_type": "execute_result"
    }
   ],
   "source": [
    "(normal_state>1).sum()"
   ]
  },
  {
   "cell_type": "code",
   "execution_count": 37,
   "id": "5a8c0cbc-0aee-425a-9e05-5b05d8dc5df7",
   "metadata": {
    "tags": []
   },
   "outputs": [
    {
     "ename": "NameError",
     "evalue": "name 'normal_state' is not defined",
     "output_type": "error",
     "traceback": [
      "\u001b[1;31m---------------------------------------------------------------------------\u001b[0m",
      "\u001b[1;31mNameError\u001b[0m                                 Traceback (most recent call last)",
      "Cell \u001b[1;32mIn[37], line 1\u001b[0m\n\u001b[1;32m----> 1\u001b[0m \u001b[43mnormal_state\u001b[49m\u001b[38;5;241m.\u001b[39mshape\n",
      "\u001b[1;31mNameError\u001b[0m: name 'normal_state' is not defined"
     ]
    }
   ],
   "source": [
    "normal_state.shape"
   ]
  },
  {
   "cell_type": "code",
   "execution_count": 177,
   "id": "4c3f05f2-6b48-47c3-af8a-76f4bec7dc2a",
   "metadata": {
    "tags": []
   },
   "outputs": [
    {
     "data": {
      "text/html": [
       "<div>\n",
       "<style scoped>\n",
       "    .dataframe tbody tr th:only-of-type {\n",
       "        vertical-align: middle;\n",
       "    }\n",
       "\n",
       "    .dataframe tbody tr th {\n",
       "        vertical-align: top;\n",
       "    }\n",
       "\n",
       "    .dataframe thead th {\n",
       "        text-align: right;\n",
       "    }\n",
       "</style>\n",
       "<table border=\"1\" class=\"dataframe\">\n",
       "  <thead>\n",
       "    <tr style=\"text-align: right;\">\n",
       "      <th></th>\n",
       "      <th>play_type</th>\n",
       "    </tr>\n",
       "  </thead>\n",
       "  <tbody>\n",
       "    <tr>\n",
       "      <th>1</th>\n",
       "      <td>pass</td>\n",
       "    </tr>\n",
       "    <tr>\n",
       "      <th>2</th>\n",
       "      <td>run</td>\n",
       "    </tr>\n",
       "    <tr>\n",
       "      <th>3</th>\n",
       "      <td>pass</td>\n",
       "    </tr>\n",
       "    <tr>\n",
       "      <th>4</th>\n",
       "      <td>punt</td>\n",
       "    </tr>\n",
       "    <tr>\n",
       "      <th>5</th>\n",
       "      <td>run</td>\n",
       "    </tr>\n",
       "    <tr>\n",
       "      <th>...</th>\n",
       "      <td>...</td>\n",
       "    </tr>\n",
       "    <tr>\n",
       "      <th>449365</th>\n",
       "      <td>qb_spike</td>\n",
       "    </tr>\n",
       "    <tr>\n",
       "      <th>449366</th>\n",
       "      <td>pass</td>\n",
       "    </tr>\n",
       "    <tr>\n",
       "      <th>449367</th>\n",
       "      <td>pass</td>\n",
       "    </tr>\n",
       "    <tr>\n",
       "      <th>449368</th>\n",
       "      <td>pass</td>\n",
       "    </tr>\n",
       "    <tr>\n",
       "      <th>449369</th>\n",
       "      <td>qb_kneel</td>\n",
       "    </tr>\n",
       "  </tbody>\n",
       "</table>\n",
       "<p>380692 rows × 1 columns</p>\n",
       "</div>"
      ],
      "text/plain": [
       "       play_type\n",
       "1           pass\n",
       "2            run\n",
       "3           pass\n",
       "4           punt\n",
       "5            run\n",
       "...          ...\n",
       "449365  qb_spike\n",
       "449366      pass\n",
       "449367      pass\n",
       "449368      pass\n",
       "449369  qb_kneel\n",
       "\n",
       "[380692 rows x 1 columns]"
      ]
     },
     "execution_count": 177,
     "metadata": {},
     "output_type": "execute_result"
    }
   ],
   "source": [
    "actions"
   ]
  },
  {
   "cell_type": "code",
   "execution_count": 178,
   "id": "0d632834-7572-4bd2-aede-a8aa266f4557",
   "metadata": {
    "tags": []
   },
   "outputs": [
    {
     "data": {
      "text/plain": [
       "play_type    0\n",
       "dtype: int64"
      ]
     },
     "execution_count": 178,
     "metadata": {},
     "output_type": "execute_result"
    }
   ],
   "source": [
    "actions.isna().sum()"
   ]
  },
  {
   "cell_type": "code",
   "execution_count": 9,
   "id": "78303cef-9e92-4c48-a789-7dfcf1a92a5c",
   "metadata": {
    "tags": []
   },
   "outputs": [],
   "source": [
    "from sklearn.preprocessing import OneHotEncoder"
   ]
  },
  {
   "cell_type": "code",
   "execution_count": 10,
   "id": "253beb9c-a865-4ffe-95f5-0507281773d1",
   "metadata": {
    "tags": []
   },
   "outputs": [],
   "source": [
    "encoder = OneHotEncoder()"
   ]
  },
  {
   "cell_type": "code",
   "execution_count": 181,
   "id": "6861edd9-acf2-4946-83ba-57b9d0a6d1ac",
   "metadata": {
    "tags": []
   },
   "outputs": [
    {
     "data": {
      "text/plain": [
       "(380692, 1)"
      ]
     },
     "execution_count": 181,
     "metadata": {},
     "output_type": "execute_result"
    }
   ],
   "source": [
    "actions.shape"
   ]
  },
  {
   "cell_type": "code",
   "execution_count": 11,
   "id": "a1f664dd-83a9-44c9-91b2-18e447acdc88",
   "metadata": {
    "tags": []
   },
   "outputs": [],
   "source": [
    "actions = encoder.fit_transform(actions)"
   ]
  },
  {
   "cell_type": "code",
   "execution_count": 13,
   "id": "18e54136-7e6f-4c0d-802b-e8782a100685",
   "metadata": {
    "tags": []
   },
   "outputs": [
    {
     "data": {
      "text/plain": [
       "[array(['field_goal', 'no_play', 'pass', 'punt', 'qb_kneel', 'qb_spike',\n",
       "        'run'], dtype=object)]"
      ]
     },
     "execution_count": 13,
     "metadata": {},
     "output_type": "execute_result"
    }
   ],
   "source": [
    "encoder.categories_"
   ]
  },
  {
   "cell_type": "code",
   "execution_count": 22,
   "id": "cad6cdfb-4fdd-4e77-ba43-dc65590b62fc",
   "metadata": {
    "tags": []
   },
   "outputs": [
    {
     "data": {
      "text/plain": [
       "(449371,)"
      ]
     },
     "execution_count": 22,
     "metadata": {},
     "output_type": "execute_result"
    }
   ],
   "source": [
    "rewards.shape"
   ]
  },
  {
   "cell_type": "code",
   "execution_count": 185,
   "id": "424fb119-764a-482a-8f8b-8f160560962d",
   "metadata": {
    "tags": []
   },
   "outputs": [
    {
     "data": {
      "text/plain": [
       "(380692, 13)"
      ]
     },
     "execution_count": 185,
     "metadata": {},
     "output_type": "execute_result"
    }
   ],
   "source": [
    "state.shape"
   ]
  },
  {
   "cell_type": "code",
   "execution_count": 186,
   "id": "f0764bb5-7c89-4bc7-ade0-1f88e37288da",
   "metadata": {
    "tags": []
   },
   "outputs": [
    {
     "data": {
      "text/plain": [
       "(380692, 13)"
      ]
     },
     "execution_count": 186,
     "metadata": {},
     "output_type": "execute_result"
    }
   ],
   "source": [
    "normal_state.shape"
   ]
  },
  {
   "cell_type": "code",
   "execution_count": 33,
   "id": "92831db0-1f72-464a-94e0-b1492bc7a6a7",
   "metadata": {
    "tags": []
   },
   "outputs": [
    {
     "ename": "NameError",
     "evalue": "name 'normal_rewards' is not defined",
     "output_type": "error",
     "traceback": [
      "\u001b[1;31m---------------------------------------------------------------------------\u001b[0m",
      "\u001b[1;31mNameError\u001b[0m                                 Traceback (most recent call last)",
      "Cell \u001b[1;32mIn[33], line 1\u001b[0m\n\u001b[1;32m----> 1\u001b[0m \u001b[43mnormal_rewards\u001b[49m\u001b[38;5;241m.\u001b[39mshape\n",
      "\u001b[1;31mNameError\u001b[0m: name 'normal_rewards' is not defined"
     ]
    }
   ],
   "source": [
    "normal_rewards.shape"
   ]
  },
  {
   "cell_type": "code",
   "execution_count": 188,
   "id": "93f6f820-2a3a-47fd-bbaf-4cbff4b2dd0f",
   "metadata": {
    "tags": []
   },
   "outputs": [],
   "source": [
    "next_state = normal_state[1:]"
   ]
  },
  {
   "cell_type": "code",
   "execution_count": 189,
   "id": "f48c579b-5d7b-484b-9f46-6fe859407960",
   "metadata": {
    "tags": []
   },
   "outputs": [],
   "source": [
    "state = normal_state[:-1]"
   ]
  },
  {
   "cell_type": "code",
   "execution_count": 190,
   "id": "7ae083ff-6d6b-4e19-b64d-aff68569e99c",
   "metadata": {
    "tags": []
   },
   "outputs": [],
   "source": [
    "next_actions = actions[1:]"
   ]
  },
  {
   "cell_type": "code",
   "execution_count": 191,
   "id": "722e5e29-0010-4af4-b189-9c4155f7319e",
   "metadata": {
    "tags": []
   },
   "outputs": [],
   "source": [
    "actions = actions[:-1]"
   ]
  },
  {
   "cell_type": "code",
   "execution_count": 192,
   "id": "3d372552-ce26-4d51-8cd2-c24ea3a9277b",
   "metadata": {
    "tags": []
   },
   "outputs": [],
   "source": [
    "normal_rewards = normal_rewards[:-1]"
   ]
  },
  {
   "cell_type": "code",
   "execution_count": 198,
   "id": "204d165f-6d56-4609-9305-9664fd4622fd",
   "metadata": {
    "tags": []
   },
   "outputs": [],
   "source": [
    "torch.save({\"state\": state, \"action\": actions, \"reward\": rewards.values, \"next_state\": next_state, \"next_action\": next_actions}, \"database.pt\")"
   ]
  },
  {
   "cell_type": "code",
   "execution_count": 194,
   "id": "73ec5652-0317-46ff-964b-85fa24d73221",
   "metadata": {
    "tags": []
   },
   "outputs": [],
   "source": [
    "import pickle\n",
    "from joblib import dump\n",
    "from joblib import load"
   ]
  },
  {
   "cell_type": "code",
   "execution_count": 195,
   "id": "7ce2eafb-53e6-45e3-aeaf-f52839c2de2b",
   "metadata": {},
   "outputs": [],
   "source": [
    "loaded_rf_model = load('best_random_forest_model.joblib')"
   ]
  },
  {
   "cell_type": "code",
   "execution_count": null,
   "id": "327e0f83-19d5-409c-af7e-3fbbd3988f12",
   "metadata": {
    "tags": []
   },
   "outputs": [],
   "source": [
    "actions.mean(axis = 0)"
   ]
  },
  {
   "cell_type": "code",
   "execution_count": null,
   "id": "4d636e55-0450-4929-aa29-39933613bc6b",
   "metadata": {},
   "outputs": [],
   "source": []
  },
  {
   "cell_type": "code",
   "execution_count": null,
   "id": "04854c5d-ae0c-49f8-bd48-58920f4fb65d",
   "metadata": {},
   "outputs": [],
   "source": []
  },
  {
   "cell_type": "code",
   "execution_count": null,
   "id": "887ce3db-b45e-4be6-a6f4-68c2bf21bd23",
   "metadata": {},
   "outputs": [],
   "source": []
  },
  {
   "cell_type": "code",
   "execution_count": null,
   "id": "8d2f156d-8662-4a64-a8d7-618552a5efd7",
   "metadata": {},
   "outputs": [],
   "source": []
  },
  {
   "cell_type": "code",
   "execution_count": 4,
   "id": "99724232-1ee0-4b94-8d75-24e0871f30b1",
   "metadata": {},
   "outputs": [],
   "source": [
    "import torch\n",
    "database = torch.load(\"database.pt\")"
   ]
  },
  {
   "cell_type": "code",
   "execution_count": 5,
   "id": "2b817b0f-c4e7-409d-b8be-4b8f2f07ceb0",
   "metadata": {},
   "outputs": [],
   "source": [
    "state = torch.tensor(database[\"state\"], dtype = torch.float)\n",
    "action = torch.tensor(database['action'].toarray(), dtype = torch.float)\n",
    "reward = torch.tensor(database['reward'], dtype = torch.float)"
   ]
  },
  {
   "cell_type": "code",
   "execution_count": 38,
   "id": "bbade19b-b948-4685-bbe6-72da8552d1eb",
   "metadata": {},
   "outputs": [
    {
     "data": {
      "text/plain": [
       "torch.Size([380691, 13])"
      ]
     },
     "execution_count": 38,
     "metadata": {},
     "output_type": "execute_result"
    }
   ],
   "source": [
    "state.shape"
   ]
  },
  {
   "cell_type": "code",
   "execution_count": 39,
   "id": "13b4f4b2-72c4-42b0-8438-94a21d850345",
   "metadata": {},
   "outputs": [
    {
     "data": {
      "text/plain": [
       "torch.Size([380691, 7])"
      ]
     },
     "execution_count": 39,
     "metadata": {},
     "output_type": "execute_result"
    }
   ],
   "source": [
    "action.shape"
   ]
  },
  {
   "cell_type": "code",
   "execution_count": 40,
   "id": "72dee9a0-47ff-45fd-9119-54dbb42cd1ec",
   "metadata": {},
   "outputs": [
    {
     "data": {
      "text/plain": [
       "torch.Size([380692])"
      ]
     },
     "execution_count": 40,
     "metadata": {},
     "output_type": "execute_result"
    }
   ],
   "source": [
    "reward.shape"
   ]
  },
  {
   "cell_type": "code",
   "execution_count": null,
   "id": "e71141e4-5ebf-4e6f-b9c7-d60e664a22b8",
   "metadata": {},
   "outputs": [],
   "source": []
  },
  {
   "cell_type": "code",
   "execution_count": 41,
   "id": "080b6468-625b-4b05-8806-43c5a57d100e",
   "metadata": {
    "tags": []
   },
   "outputs": [
    {
     "data": {
      "text/plain": [
       "tensor([ 5.0000, -3.0000,  0.0000,  ...,  5.0000,  0.0000, -0.9000])"
      ]
     },
     "execution_count": 41,
     "metadata": {},
     "output_type": "execute_result"
    }
   ],
   "source": [
    "reward"
   ]
  },
  {
   "cell_type": "code",
   "execution_count": null,
   "id": "41838b66-c7cf-4044-a32b-c3e8aec24d6b",
   "metadata": {},
   "outputs": [],
   "source": []
  }
 ],
 "metadata": {
  "kernelspec": {
   "display_name": "Python 3 (ipykernel)",
   "language": "python",
   "name": "python3"
  },
  "language_info": {
   "codemirror_mode": {
    "name": "ipython",
    "version": 3
   },
   "file_extension": ".py",
   "mimetype": "text/x-python",
   "name": "python",
   "nbconvert_exporter": "python",
   "pygments_lexer": "ipython3",
   "version": "3.8.17"
  }
 },
 "nbformat": 4,
 "nbformat_minor": 5
}
