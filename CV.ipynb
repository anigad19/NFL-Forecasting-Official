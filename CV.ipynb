{
 "cells": [
  {
   "cell_type": "markdown",
   "id": "4989131a-32df-43b1-9501-65fb144fbb92",
   "metadata": {
    "tags": []
   },
   "source": [
    "* **random forest with cross validation**\n",
    "* **if it doesnt do well use nested cross validation with other data**\n",
    "* **confusion matrix to see if its doing it well**"
   ]
  },
  {
   "cell_type": "code",
   "execution_count": 2,
   "id": "f2a5b11e-0b48-4e53-b5d0-f90114a7da35",
   "metadata": {
    "tags": []
   },
   "outputs": [],
   "source": [
    "import pandas as pd\n",
    "import sklearn\n",
    "from sklearn.model_selection import train_test_split\n",
    "from sklearn.experimental import enable_iterative_imputer\n",
    "from sklearn.impute import IterativeImputer\n",
    "from sklearn.ensemble import RandomForestClassifier\n",
    "from sklearn.preprocessing import OneHotEncoder"
   ]
  },
  {
   "cell_type": "code",
   "execution_count": 3,
   "id": "537331b1-d88e-4451-b643-46095a57477d",
   "metadata": {
    "tags": []
   },
   "outputs": [
    {
     "name": "stderr",
     "output_type": "stream",
     "text": [
      "C:\\Users\\aniga\\AppData\\Local\\Temp\\ipykernel_10420\\1788553136.py:1: DtypeWarning: Columns (42,166,167,168,169,174,175,178,179,182,183,188,189,190,191,194,195,203,204,205,218,219,220,231,232,233,238,240,241,249) have mixed types. Specify dtype option on import or set low_memory=False.\n",
      "  df = pd.read_csv('NFL Play by Play 2009-2018 (v5).csv')\n"
     ]
    }
   ],
   "source": [
    "df = pd.read_csv('NFL Play by Play 2009-2018 (v5).csv')"
   ]
  },
  {
   "cell_type": "code",
   "execution_count": 4,
   "id": "581d0631-238b-43db-b6a3-33d96c05da66",
   "metadata": {
    "tags": []
   },
   "outputs": [],
   "source": [
    "xy = df[['down', 'quarter_seconds_remaining', 'total_home_score', 'total_away_score', 'posteam_score', 'defteam_score', 'opp_td_prob', 'td_prob', 'total_home_rush_epa',\n",
    "'game_seconds_remaining', 'yardline_100', 'first_down_rush', 'ydstogo', 'play_type']]\n",
    "xy = xy.dropna(subset = ['play_type'])\n",
    "xy['down'] = xy['down'].fillna(0)"
   ]
  },
  {
   "cell_type": "code",
   "execution_count": 5,
   "id": "b5776d4c-f84b-40da-a39d-f58925e48135",
   "metadata": {
    "tags": []
   },
   "outputs": [],
   "source": [
    "y = xy[['play_type']]"
   ]
  },
  {
   "cell_type": "code",
   "execution_count": 6,
   "id": "e7686e17-a7db-4ac0-bbb6-27531a847124",
   "metadata": {
    "tags": []
   },
   "outputs": [],
   "source": [
    "x = xy[['down', 'quarter_seconds_remaining', 'total_home_score', 'total_away_score', 'posteam_score', 'defteam_score', 'opp_td_prob', 'td_prob', 'total_home_rush_epa',\n",
    "'game_seconds_remaining', 'yardline_100', 'first_down_rush', 'ydstogo']]"
   ]
  },
  {
   "cell_type": "code",
   "execution_count": 8,
   "id": "a173fa30-a093-4ea6-90bc-8b5706b00752",
   "metadata": {
    "tags": []
   },
   "outputs": [],
   "source": [
    "imputer = IterativeImputer()"
   ]
  },
  {
   "cell_type": "code",
   "execution_count": 9,
   "id": "5d4023d3-24b5-4d6b-952e-39b6f71277fd",
   "metadata": {
    "tags": []
   },
   "outputs": [],
   "source": [
    "x = imputer.fit_transform(x)"
   ]
  },
  {
   "cell_type": "code",
   "execution_count": 10,
   "id": "1f9e3b81-9e1f-49b4-a719-977792f56431",
   "metadata": {
    "tags": []
   },
   "outputs": [
    {
     "data": {
      "text/plain": [
       "play_type    0\n",
       "dtype: int64"
      ]
     },
     "execution_count": 10,
     "metadata": {},
     "output_type": "execute_result"
    }
   ],
   "source": [
    "y.isna().sum()"
   ]
  },
  {
   "cell_type": "code",
   "execution_count": 12,
   "id": "6782812b-c85c-40ca-a4e8-6afc6f0db54a",
   "metadata": {
    "tags": []
   },
   "outputs": [],
   "source": [
    "from sklearn.model_selection import cross_val_score"
   ]
  },
  {
   "cell_type": "code",
   "execution_count": 13,
   "id": "5a141080-b8c2-4a04-bac6-46f439b0c0d9",
   "metadata": {
    "tags": []
   },
   "outputs": [],
   "source": [
    "model = RandomForestClassifier()"
   ]
  },
  {
   "cell_type": "code",
   "execution_count": 16,
   "id": "439b61d8-6a57-451c-a7b2-945c0226725e",
   "metadata": {
    "tags": []
   },
   "outputs": [
    {
     "name": "stderr",
     "output_type": "stream",
     "text": [
      "C:\\Users\\aniga\\miniconda3\\envs\\tf2\\lib\\site-packages\\sklearn\\base.py:1151: DataConversionWarning: A column-vector y was passed when a 1d array was expected. Please change the shape of y to (n_samples,), for example using ravel().\n",
      "  return fit_method(estimator, *args, **kwargs)\n",
      "C:\\Users\\aniga\\miniconda3\\envs\\tf2\\lib\\site-packages\\sklearn\\base.py:1151: DataConversionWarning: A column-vector y was passed when a 1d array was expected. Please change the shape of y to (n_samples,), for example using ravel().\n",
      "  return fit_method(estimator, *args, **kwargs)\n",
      "C:\\Users\\aniga\\miniconda3\\envs\\tf2\\lib\\site-packages\\sklearn\\base.py:1151: DataConversionWarning: A column-vector y was passed when a 1d array was expected. Please change the shape of y to (n_samples,), for example using ravel().\n",
      "  return fit_method(estimator, *args, **kwargs)\n",
      "C:\\Users\\aniga\\miniconda3\\envs\\tf2\\lib\\site-packages\\sklearn\\base.py:1151: DataConversionWarning: A column-vector y was passed when a 1d array was expected. Please change the shape of y to (n_samples,), for example using ravel().\n",
      "  return fit_method(estimator, *args, **kwargs)\n",
      "C:\\Users\\aniga\\miniconda3\\envs\\tf2\\lib\\site-packages\\sklearn\\base.py:1151: DataConversionWarning: A column-vector y was passed when a 1d array was expected. Please change the shape of y to (n_samples,), for example using ravel().\n",
      "  return fit_method(estimator, *args, **kwargs)\n"
     ]
    }
   ],
   "source": [
    "scores = cross_val_score(model, x, y, cv=5)"
   ]
  },
  {
   "cell_type": "code",
   "execution_count": 17,
   "id": "37a3fa27-4e33-4a79-9ab7-4008dafbc808",
   "metadata": {
    "tags": []
   },
   "outputs": [
    {
     "name": "stdout",
     "output_type": "stream",
     "text": [
      "Fold 1 score: 0.7410423825887743\n",
      "Fold 2 score: 0.739495990836197\n",
      "Fold 3 score: 0.740707224595929\n",
      "Fold 4 score: 0.739916837535367\n",
      "Fold 5 score: 0.7052543557199968\n"
     ]
    }
   ],
   "source": [
    "for fold_idx, score in enumerate(scores):\n",
    "    print(f\"Fold {fold_idx+1} score: {score}\")"
   ]
  },
  {
   "cell_type": "code",
   "execution_count": 11,
   "id": "d9499180-8d28-4ec4-ac06-14c1ae923f1e",
   "metadata": {
    "tags": []
   },
   "outputs": [],
   "source": [
    "TIME = [\n",
    "    'quarter_seconds_remaining',\n",
    "    'half_seconds_remaining',\n",
    "    'game_seconds_remaining',\n",
    "    'game_half',\n",
    "    'quarter_end',\n",
    "    'time'\n",
    "]\n",
    "\n",
    "POSITION = [\n",
    "    'side_of_field',\n",
    "    'yardline_100',\n",
    "    'down',\n",
    "    'goal_to_go',\n",
    "    'yrdln',\n",
    "    'ydstogo',\n",
    "    'ydsnet'\n",
    "]\n",
    "# we cannot give play_info to model because that would be cheating\n",
    "PLAY_INFO = [\n",
    "    'play_type',\n",
    "    'shotgun',\n",
    "    'no_huddle',\n",
    "    'qb_dropback',\n",
    "    'qb_kneel',\n",
    "    'qb_spike',\n",
    "    'qb_scramble',\n",
    "    'pass_length',\n",
    "    'pass_location',\n",
    "    'run_location',\n",
    "    'run_gap',\n",
    "    'field_goal_result',\n",
    "    'kick_distance',\n",
    "    'extra_point_result',\n",
    "    'two_point_conv_result',\n",
    "    'punt_blocked',\n",
    "    'first_down_rush',\n",
    "    'first_down_pass',\n",
    "    'first_down_penalty',\n",
    "    'third_down_converted',\n",
    "    'third_down_failed',\n",
    "    'fourth_down_converted',\n",
    "    'fourth_down_failed',\n",
    "    'incomplete_pass',\n",
    "    'interception',\n",
    "    'punt_inside_twenty',\n",
    "    'punt_in_endzone',\n",
    "    'punt_out_of_bounds',\n",
    "    'punt_downed',\n",
    "    'punt_fair_catch',\n",
    "    'kickoff_inside_twenty',\n",
    "    'kickoff_in_endzone',\n",
    "    'kickoff_out_of_bounds',\n",
    "    'kickoff_downed',\n",
    "    'kickoff_fair_catch',\n",
    "    'fumble_forced',\n",
    "    'fumble_not_forced',\n",
    "    'fumble_out_of_bounds',\n",
    "    'solo_tackle',\n",
    "    'safety',\n",
    "    'penalty',\n",
    "    'tackled_for_loss',\n",
    "    'fumble_lost',\n",
    "    'own_kickoff_recovery',\n",
    "    'own_kickoff_recovery_td',\n",
    "    'qb_hit',\n",
    "    'rush_attempt',\n",
    "    'pass_attempt',\n",
    "    'sack',\n",
    "    'touchdown',\n",
    "    'pass_touchdown',\n",
    "    'rush_touchdown',\n",
    "    'return_touchdown',\n",
    "    'extra_point_attempt',\n",
    "    'two_point_attempt',\n",
    "    'field_goal_attempt',\n",
    "    'kickoff_attempt',\n",
    "    'punt_attempt',\n",
    "    'fumble',\n",
    "    'complete_pass',\n",
    "    'assist_tackle',\n",
    "    'lateral_reception',\n",
    "    'lateral_rush',\n",
    "    'lateral_return',\n",
    "    'lateral_recovery',\n",
    "    'lateral_receiver_player_id',\n",
    "    'lateral_receiver_player_name',\n",
    "    'lateral_rusher_player_id',\n",
    "    'lateral_rusher_player_name',\n",
    "    'lateral_sack_player_id',\n",
    "    'lateral_sack_player_name',\n",
    "    'lateral_interception_player_id',\n",
    "    'lateral_interception_player_name',\n",
    "    'lateral_punt_returner_player_id',\n",
    "    'lateral_punt_returner_player_name',\n",
    "    'lateral_kickoff_returner_player_id',\n",
    "    'lateral_kickoff_returner_player_name'\n",
    "]\n",
    "\n",
    "METRICS = [\n",
    "    'yards_gained',\n",
    "    'tre',\n",
    "    'total_away_score',\n",
    "    'posteam_score',\n",
    "    'defteam_score',\n",
    "    'score_differential',\n",
    "    'posteam_score_post',\n",
    "    'defteam_score_post',\n",
    "    'score_differential_post',\n",
    "    'first_down_rush',\n",
    "    'first_down_pass',\n",
    "    'first_down_penalty',\n",
    "    'third_down_converted',\n",
    "    'third_down_failed',\n",
    "    'fourth_down_converted',\n",
    "    'fourth_down_failed',\n",
    "    'return_team',\n",
    "    'return_yards',\n",
    "    'penalty_team',\n",
    "    'penalty_player_id',\n",
    "    'penalty_player_name',\n",
    "    'penalty_yards',\n",
    "    'replay_or_challenge',\n",
    "    'replay_or_challenge_result',\n",
    "    'penalty_type',\n",
    "    'defensive_two_point_attempt',\n",
    "    'defensive_two_point_conv',\n",
    "    'defensive_extra_point_attempt',\n",
    "    'defensive_extra_point_conv'\n",
    "]\n",
    "\n",
    "temp= ['no_score_prob',\n",
    "    'opp_fg_prob',\n",
    "    'opp_sotal_home_scoafety_prob',\n",
    "    'opp_td_prob',\n",
    "    'fg_prob',\n",
    "    'safety_prob',\n",
    "    'td_prob',\n",
    "    'extra_point_prob',\n",
    "    'two_point_conversion_prob']"
   ]
  },
  {
   "cell_type": "code",
   "execution_count": null,
   "id": "8ca86137-5508-40ed-a67d-201b67c56d2e",
   "metadata": {},
   "outputs": [],
   "source": [
    "new_xy = df[['down', 'quarter_seconds_remaining', 'total_home_score', 'total_away_score', 'posteam_score', 'defteam_score', 'opp_td_prob', 'td_prob', 'total_home_rush_epa',\n",
    "'game_seconds_remaining', 'yardline_100', 'first_down_rush', 'ydstogo', 'play_type']]\n",
    "xy = xy.dropna(subset = ['play_type'])\n",
    "xy['down'] = xy['down'].fillna(0)"
   ]
  },
  {
   "cell_type": "code",
   "execution_count": null,
   "id": "c85fd6d7-b3d9-491b-8199-cf91264359b1",
   "metadata": {},
   "outputs": [],
   "source": [
    "y = xy[['play_type']]"
   ]
  },
  {
   "cell_type": "code",
   "execution_count": null,
   "id": "54e311cb-e262-438e-a5df-7cc1f8a1ccec",
   "metadata": {},
   "outputs": [],
   "source": [
    "x = xy[['down', 'quarter_seconds_remaining', 'total_home_score', 'total_away_score', 'posteam_score', 'defteam_score', 'opp_td_prob', 'td_prob', 'total_home_rush_epa',\n",
    "'game_seconds_remaining', 'yardline_100', 'first_down_rush', 'ydstogo']]"
   ]
  }
 ],
 "metadata": {
  "kernelspec": {
   "display_name": "Python 3 (ipykernel)",
   "language": "python",
   "name": "python3"
  },
  "language_info": {
   "codemirror_mode": {
    "name": "ipython",
    "version": 3
   },
   "file_extension": ".py",
   "mimetype": "text/x-python",
   "name": "python",
   "nbconvert_exporter": "python",
   "pygments_lexer": "ipython3",
   "version": "3.8.17"
  }
 },
 "nbformat": 4,
 "nbformat_minor": 5
}
